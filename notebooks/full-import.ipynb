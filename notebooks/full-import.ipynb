{
  "cells": [
    {
      "cell_type": "markdown",
      "metadata": {
        "id": "1PnC-9oXvjUV"
      },
      "source": [
        "<td>\n",
        "   <a target=\"_blank\" href=\"https://labelbox.com\" ><img src=\"https://labelbox.com/blog/content/images/2021/02/logo-v4.svg\" width=256/></a>\n",
        "</td>"
      ]
    },
    {
      "cell_type": "markdown",
      "metadata": {
        "id": "1uO7jj00Vkrn"
      },
      "source": [
        "<td>\n",
        "<a href=\"https://colab.research.google.com/drive/1MTLXL32JFGgXV1btgq-1VkGuu7U9Un_n\" target=\"_blank\"><img\n",
        "src=\"https://colab.research.google.com/assets/colab-badge.svg\" alt=\"Open In Colab\"></a>\n",
        "</td>\n",
        "\n",
        "<td>\n",
        "<a href=\"https://github.com/Labelbox/labelpandas/blob/main/notebooks/full-import.ipynb\" target=\"_blank\"><img\n",
        "src=\"https://img.shields.io/badge/GitHub-100000?logo=github&logoColor=white\" alt=\"GitHub\"></a>\n",
        "</td>"
      ]
    },
    {
      "cell_type": "markdown",
      "metadata": {
        "id": "QLsHMjbdvmjV"
      },
      "source": [
        "# _**Creating Data Rows with Metadata, Attachments and Annotations with LabelPandas**_"
      ]
    },
    {
      "cell_type": "markdown",
      "metadata": {
        "id": "wRAiReG_PH8k"
      },
      "source": [
        "## _**Documentation**_"
      ]
    },
    {
      "cell_type": "markdown",
      "metadata": {
        "id": "XBDIqcqtPUQJ"
      },
      "source": [
        "### **Data Rows**\n",
        "_____________________"
      ]
    },
    {
      "cell_type": "markdown",
      "metadata": {
        "id": "Sj3GmYHPQTiF"
      },
      "source": [
        "**Requirements:**\n",
        "\n",
        "- A `row_data` column - This column must be URLs that point to the asset to-be-uploaded\n",
        "\n",
        "- Either a `dataset_id` column or an input argument for `dataset_id`\n",
        "  - If uploading to multiple datasets, provide a `dataset_id` column \n",
        "  - If uploading to one dataset, provide a `dataset_id` input argument\n",
        "    - _This can still be a column if it's already in your CSV file_\n",
        "\n",
        "**Recommended:**\n",
        "- A `global_key` column\n",
        "  - This column contains unique identifiers for your data rows\n",
        "  - If none is provided, will default to your `row_data` column\n",
        "- An `external_id` column\n",
        "  - This column contains non-unique identifiers for your data rows\n",
        "  - If none is provided, will default to your `global_key` column  \n",
        "\n",
        "**Optional:**\n",
        "- A `project_id` columm or an input argument for `project_id`\n",
        "  - If batching to multiple projects, provide a `project_id` column\n",
        "  - If batching to one project, provide a `project_id` input argument\n",
        "    - _This can still be a column if it's already in your CSV file_"
      ]
    },
    {
      "cell_type": "markdown",
      "metadata": {
        "id": "LgE4o40wPWE_"
      },
      "source": [
        "### **Attachments**\n",
        "_____________________"
      ]
    },
    {
      "cell_type": "markdown",
      "metadata": {
        "id": "1NE_h1cuZL1H"
      },
      "source": [
        "For attachments, the column name must be \" `attachment` + `divider` + `attachment_type` + `divider` + `column_name` \"\n",
        "  - Example: `attachment///raw_text///sample_column_name`\n",
        "  - `attachment_type` must be one of the following:\n",
        "    - `image`, `video`, `raw_text`, `html`, `text_url`\n",
        "\n",
        "\n",
        "Values for attachments must correspond with the attachment type per Labelbox docs\n",
        "  - More here: \n",
        "    - [Labelbox docs on attachments](https://docs.labelbox.com/docs/asset-attachments)"
      ]
    },
    {
      "cell_type": "markdown",
      "metadata": {
        "id": "dpkR8jLWZMTy"
      },
      "source": [
        "### **Metadata**\n",
        "_____________________"
      ]
    },
    {
      "cell_type": "markdown",
      "metadata": {
        "id": "2ijrat2dZYPQ"
      },
      "source": [
        "For metadata, the column name must be \" `metadata` + `divider` + `metadata_type` + `divider` + `metadata_field_name` \"\n",
        "  - Example: `metadata///string///sample_metadata_field_name`\n",
        "  - `metadata_type` must be one of the following:\n",
        "    - `string`, `enum`, `datetime`, `number` \n",
        "  - If the `metadata_field_name` doesn't exist yet in Labelbox, LabelPandas will create it for you\n",
        "\n",
        "\n",
        "The values for metadata fields must correspond with the metadata type per Labelbox docs\n",
        "  - More here:\n",
        "    - [Labelbox definition of metadata](https://docs.labelbox.com/docs/datarow-metadata)\n",
        "    - [Labelbox docs on creating metadata](https://docs.labelbox.com/docs/createmodify-metadata-schema)    "
      ]
    },
    {
      "cell_type": "markdown",
      "metadata": {
        "id": "q14TcxlLZZW_"
      },
      "source": [
        "### **Annotations**\n",
        "_____________________\n",
        "\n",
        "*Note:*\n",
        "*There must also be a `project_id` column, or an input argument for `project_id` when using LabelPandas to upload annotations*\n",
        "\n",
        "*There must also be an `upload_method` provided when using LabelPandas*\n",
        "  - *`upload_method` must be one of the following:*\n",
        "    - *`\"mal\"` (uploads annotations as pre-labels)*\n",
        "    - *`\"import\"` (uploads annotations as submitted labels)*"
      ]
    },
    {
      "cell_type": "markdown",
      "metadata": {
        "id": "1cGDuuc7Zb1j"
      },
      "source": [
        "\n",
        "- For annotations, the column name must be `annotation` + `divider` + `annotation_type` + `divider` + `top_level_feature_name`\n",
        "  - Example: `annotation///bbox///bbox_tool_name` where, in this case, the bounding tool name in your Labelbox ontology is \"bbox_tool_name\"\n",
        "  - `annotation_type` must be one of the following:\n",
        "    - `bbox`, `polygon`, `point`, `mask`, `line`, `named-entity`, `radio`, `checklist`, `text`\n",
        "- Values for annotations must correspond with the following, per annotation type:\n",
        "\n",
        "_____________________\n",
        "_____________________\n",
        "\n",
        "**Row-Level Formats for Tool Annotations**\n",
        "- `bbox` (this example is two annotations)\n",
        "```\n",
        "[\n",
        "        [[top, left, height, width], [nested_classification_name_paths]], \n",
        "        [[top, left, height, width], [nested_classification_name_paths]]\n",
        "]\n",
        "```\n",
        "- `polygon` (this example is two annotations)\n",
        "```\n",
        "[\n",
        "        [[(x, y), (x, y),...(x, y)], [nested_classification_name_paths]], \n",
        "        [[(x, y), (x, y),...(x, y)], [nested_classification_name_paths]]\n",
        "]\n",
        "```\n",
        "- `line` (this example is two annotations)\n",
        "```\n",
        "[\n",
        "        [[(x, y), (x, y),...(x, y)], [nested_classification_name_paths]], \n",
        "        [[(x, y), (x, y),...(x, y)], [nested_classification_name_paths]]\n",
        "]\n",
        "```\n",
        "- `point` (this example is two annotations)\n",
        "```\n",
        "[\n",
        "        [[x, y], [nested_classification_name_paths]], \n",
        "        [[x, y], [nested_classification_name_paths]]\n",
        "]\n",
        "```\n",
        "- `mask` (this example is two annotations)\n",
        "```\n",
        "[\n",
        "        [[URL, colorRGB], [nested_classification_name_paths]], \n",
        "        [[URL, colorRGB], [nested_classification_name_paths]]\n",
        "]\n",
        "                      OR\n",
        "[\n",
        "        [[numpy_array, colorRGB], [nested_classification_name_paths]], \n",
        "        [[numpy_array, colorRGB], [nested_classification_name_paths]]\n",
        "]\n",
        "                      OR\n",
        "[\n",
        "        [[png_bytes, None], [nested_classification_name_paths]], \n",
        "        [[png_bytes, None], [nested_classification_name_paths]]\n",
        "]\n",
        "```\n",
        "- `named-entity` (this example is two annotations)\n",
        "```\n",
        "[\n",
        "        [[start, end], [nested_classification_name_paths]], \n",
        "        [[start, end], [nested_classification_name_paths]]\n",
        "]\n",
        "```\n",
        "\n",
        "**Row-Level Formats for Classification Annotations**\n",
        "- `radio`, `checklist` and `text`\n",
        "```\n",
        "[[answer_name_paths]]\n",
        "```\n",
        "  - Note: the last string in a text name path is the text answer value itself\n",
        "_____________________\n",
        "_____________________  "
      ]
    },
    {
      "cell_type": "markdown",
      "metadata": {
        "id": "T7P-QuEO1TL9"
      },
      "source": [
        "## _**Code**_"
      ]
    },
    {
      "cell_type": "markdown",
      "metadata": {
        "id": "ElO7wG-I2k7d"
      },
      "source": [
        "Install LabelPandas"
      ]
    },
    {
      "cell_type": "code",
      "execution_count": 1,
      "metadata": {
        "colab": {
          "base_uri": "https://localhost:8080/"
        },
        "id": "guhmMAUh1B3X",
        "outputId": "d309c36d-218d-46df-d25a-95fce82f49de"
      },
      "outputs": [
        {
          "name": "stdout",
          "output_type": "stream",
          "text": [
            "\n",
            "\u001b[1m[\u001b[0m\u001b[34;49mnotice\u001b[0m\u001b[1;39;49m]\u001b[0m\u001b[39;49m A new release of pip is available: \u001b[0m\u001b[31;49m23.0.1\u001b[0m\u001b[39;49m -> \u001b[0m\u001b[32;49m23.1.2\u001b[0m\n",
            "\u001b[1m[\u001b[0m\u001b[34;49mnotice\u001b[0m\u001b[1;39;49m]\u001b[0m\u001b[39;49m To update, run: \u001b[0m\u001b[32;49mpython3.10 -m pip install --upgrade pip\u001b[0m\n"
          ]
        }
      ],
      "source": [
        "!pip install labelpandas -q"
      ]
    },
    {
      "cell_type": "code",
      "execution_count": 2,
      "metadata": {
        "id": "3VY0uDoA_nTj"
      },
      "outputs": [],
      "source": [
        "import labelpandas as lp\n",
        "import pandas as pd\n",
        "# Imported to create an example ontology - not required for typical runs of LabelPandas\n",
        "import labelbox as lb"
      ]
    },
    {
      "cell_type": "code",
      "execution_count": 3,
      "metadata": {
        "id": "EEAs7qtlvjZ-"
      },
      "outputs": [],
      "source": [
        "csv_path = \"https://raw.githubusercontent.com/Labelbox/labelpandas/main/datasets/full-import.csv\" # Path to your CSV file\n",
        "api_key = \"\""
      ]
    },
    {
      "cell_type": "markdown",
      "metadata": {
        "id": "CiJBoovujXz9"
      },
      "source": [
        "Load a CSV"
      ]
    },
    {
      "cell_type": "code",
      "execution_count": 4,
      "metadata": {
        "colab": {
          "base_uri": "https://localhost:8080/",
          "height": 358
        },
        "id": "DhsD-2MYjZOH",
        "outputId": "4d4b5088-9298-4dc6-c1ba-cb3e7490d23b"
      },
      "outputs": [
        {
          "data": {
            "text/html": [
              "<div>\n",
              "<style scoped>\n",
              "    .dataframe tbody tr th:only-of-type {\n",
              "        vertical-align: middle;\n",
              "    }\n",
              "\n",
              "    .dataframe tbody tr th {\n",
              "        vertical-align: top;\n",
              "    }\n",
              "\n",
              "    .dataframe thead th {\n",
              "        text-align: right;\n",
              "    }\n",
              "</style>\n",
              "<table border=\"1\" class=\"dataframe\">\n",
              "  <thead>\n",
              "    <tr style=\"text-align: right;\">\n",
              "      <th></th>\n",
              "      <th>row_data</th>\n",
              "      <th>global_key</th>\n",
              "      <th>external_id</th>\n",
              "      <th>annotation///bbox///sample_bounding_box</th>\n",
              "      <th>annotation///bbox///sample_nested_bounding_box</th>\n",
              "      <th>annotation///polygon///sample_polygon</th>\n",
              "      <th>annotation///polygon///sample_nested_polygon</th>\n",
              "      <th>annotation///mask///sample_segmentation_mask</th>\n",
              "      <th>annotation///point///sample_point</th>\n",
              "      <th>annotation///line///sample_polyline</th>\n",
              "      <th>...</th>\n",
              "      <th>annotation///text///sample_free_text_question</th>\n",
              "      <th>attachment///image///sample_col_1</th>\n",
              "      <th>attachment///video///sample_col_2</th>\n",
              "      <th>attachment///text_url///sample_col_3</th>\n",
              "      <th>attachment///raw_text///sample_col_4</th>\n",
              "      <th>attachment///html///sample_col_5</th>\n",
              "      <th>metadata///string///LabelPandas-String</th>\n",
              "      <th>metadata///number///LabelPandas-Number</th>\n",
              "      <th>metadata///enum///LabelPandas-Enum</th>\n",
              "      <th>metadata///datetime///LabelPandas-Datetime</th>\n",
              "    </tr>\n",
              "  </thead>\n",
              "  <tbody>\n",
              "    <tr>\n",
              "      <th>0</th>\n",
              "      <td>https://storage.googleapis.com/labelbox-datase...</td>\n",
              "      <td>labelpandas-test-gCbn5IeZtE92OaUbyl1ZjQ.jpg</td>\n",
              "      <td>gCbn5IeZtE92OaUbyl1ZjQ.jpg</td>\n",
              "      <td>[[[1853, 191, 213, 304], []], [[1828, 749, 154...</td>\n",
              "      <td>[[[1813, 1066, 259, 285], ['sample_tool_sub_te...</td>\n",
              "      <td>[[[[3363.98, 1180.19], [3205.616, 1349.865], [...</td>\n",
              "      <td>[[[[1341.067, 2550.793], [1412.708, 2545.137],...</td>\n",
              "      <td>[[['iVBORw0KGgoAAAANSUhEUgAAD8AAAAvQCAAAAADlnp...</td>\n",
              "      <td>[[[1936.818, 2509.317], []], [[732.12, 2473.49...</td>\n",
              "      <td>[[[[1416.479, 1962.584], [2768.229, 2235.95], ...</td>\n",
              "      <td>...</td>\n",
              "      <td>NaN</td>\n",
              "      <td>https://storage.googleapis.com/labelbox-sample...</td>\n",
              "      <td>https://storage.googleapis.com/labelbox-sample...</td>\n",
              "      <td>https://storage.googleapis.com/labelbox-sample...</td>\n",
              "      <td>Sample Raw Text</td>\n",
              "      <td>https://storage.googleapis.com/labelbox-sample...</td>\n",
              "      <td>Raw Text String 1</td>\n",
              "      <td>3999</td>\n",
              "      <td>A</td>\n",
              "      <td>01/30/1926 11:39 PM</td>\n",
              "    </tr>\n",
              "    <tr>\n",
              "      <th>1</th>\n",
              "      <td>https://storage.googleapis.com/labelbox-datase...</td>\n",
              "      <td>labelpandas-test-1MnLIosQZmXH3T-iU-4mtQ.jpg</td>\n",
              "      <td>1MnLIosQZmXH3T-iU-4mtQ.jpg</td>\n",
              "      <td>[[[1463, 2155, 125, 200], []]]</td>\n",
              "      <td>[[[1362, 938, 237, 198], []]]</td>\n",
              "      <td>[[[[19.327, 2805.486], [701.995, 2515.586], [1...</td>\n",
              "      <td>[[[[1902.743, 1460.723], [1897.132, 1543.017],...</td>\n",
              "      <td>[[['iVBORw0KGgoAAAANSUhEUgAAD6AAAAu4CAAAAADQ3h...</td>\n",
              "      <td>[[[430.798, 1477.556], []], [[254.988, 1451.37...</td>\n",
              "      <td>[[[[9.975, 1548.628], [797.382, 1658.978], [12...</td>\n",
              "      <td>...</td>\n",
              "      <td>[['Sample text answer']]</td>\n",
              "      <td>https://storage.googleapis.com/labelbox-sample...</td>\n",
              "      <td>https://storage.googleapis.com/labelbox-sample...</td>\n",
              "      <td>https://storage.googleapis.com/labelbox-sample...</td>\n",
              "      <td>Sample Raw Text</td>\n",
              "      <td>https://storage.googleapis.com/labelbox-sample...</td>\n",
              "      <td>Raw Text String 3</td>\n",
              "      <td>2673</td>\n",
              "      <td>B</td>\n",
              "      <td>09/11/1925 12:09 PM</td>\n",
              "    </tr>\n",
              "    <tr>\n",
              "      <th>2</th>\n",
              "      <td>https://storage.googleapis.com/labelbox-datase...</td>\n",
              "      <td>labelpandas-test-qm4W6ktKCGR22n21A3o_0A.jpg</td>\n",
              "      <td>qm4W6ktKCGR22n21A3o_0A.jpg</td>\n",
              "      <td>[[[1315, 2003, 147, 350], []], [[1340, 913, 12...</td>\n",
              "      <td>[[[999, 25, 146, 350], ['sample_tool_sub_text_...</td>\n",
              "      <td>[[[[2000.574, 856.19], [2023.466, 944.327], [2...</td>\n",
              "      <td>[[[[1775.08, 967.219], [1759.055, 1003.848], [...</td>\n",
              "      <td>[[['iVBORw0KGgoAAAANSUhEUgAADMAAAAcsCAAAAADZjE...</td>\n",
              "      <td>[[[552.606, 554.005], []], [[2016.599, 358.272...</td>\n",
              "      <td>[[[[19.204, 489.905], [558.329, 811.549], [955...</td>\n",
              "      <td>...</td>\n",
              "      <td>NaN</td>\n",
              "      <td>https://storage.googleapis.com/labelbox-sample...</td>\n",
              "      <td>https://storage.googleapis.com/labelbox-sample...</td>\n",
              "      <td>https://storage.googleapis.com/labelbox-sample...</td>\n",
              "      <td>Sample Raw Text</td>\n",
              "      <td>https://storage.googleapis.com/labelbox-sample...</td>\n",
              "      <td>Raw Text String 5</td>\n",
              "      <td>3409</td>\n",
              "      <td>C</td>\n",
              "      <td>06/28/1960 04:47 AM</td>\n",
              "    </tr>\n",
              "  </tbody>\n",
              "</table>\n",
              "<p>3 rows × 23 columns</p>\n",
              "</div>"
            ],
            "text/plain": [
              "                                            row_data   \n",
              "0  https://storage.googleapis.com/labelbox-datase...  \\\n",
              "1  https://storage.googleapis.com/labelbox-datase...   \n",
              "2  https://storage.googleapis.com/labelbox-datase...   \n",
              "\n",
              "                                    global_key                 external_id   \n",
              "0  labelpandas-test-gCbn5IeZtE92OaUbyl1ZjQ.jpg  gCbn5IeZtE92OaUbyl1ZjQ.jpg  \\\n",
              "1  labelpandas-test-1MnLIosQZmXH3T-iU-4mtQ.jpg  1MnLIosQZmXH3T-iU-4mtQ.jpg   \n",
              "2  labelpandas-test-qm4W6ktKCGR22n21A3o_0A.jpg  qm4W6ktKCGR22n21A3o_0A.jpg   \n",
              "\n",
              "             annotation///bbox///sample_bounding_box   \n",
              "0  [[[1853, 191, 213, 304], []], [[1828, 749, 154...  \\\n",
              "1                     [[[1463, 2155, 125, 200], []]]   \n",
              "2  [[[1315, 2003, 147, 350], []], [[1340, 913, 12...   \n",
              "\n",
              "      annotation///bbox///sample_nested_bounding_box   \n",
              "0  [[[1813, 1066, 259, 285], ['sample_tool_sub_te...  \\\n",
              "1                      [[[1362, 938, 237, 198], []]]   \n",
              "2  [[[999, 25, 146, 350], ['sample_tool_sub_text_...   \n",
              "\n",
              "               annotation///polygon///sample_polygon   \n",
              "0  [[[[3363.98, 1180.19], [3205.616, 1349.865], [...  \\\n",
              "1  [[[[19.327, 2805.486], [701.995, 2515.586], [1...   \n",
              "2  [[[[2000.574, 856.19], [2023.466, 944.327], [2...   \n",
              "\n",
              "        annotation///polygon///sample_nested_polygon   \n",
              "0  [[[[1341.067, 2550.793], [1412.708, 2545.137],...  \\\n",
              "1  [[[[1902.743, 1460.723], [1897.132, 1543.017],...   \n",
              "2  [[[[1775.08, 967.219], [1759.055, 1003.848], [...   \n",
              "\n",
              "        annotation///mask///sample_segmentation_mask   \n",
              "0  [[['iVBORw0KGgoAAAANSUhEUgAAD8AAAAvQCAAAAADlnp...  \\\n",
              "1  [[['iVBORw0KGgoAAAANSUhEUgAAD6AAAAu4CAAAAADQ3h...   \n",
              "2  [[['iVBORw0KGgoAAAANSUhEUgAADMAAAAcsCAAAAADZjE...   \n",
              "\n",
              "                   annotation///point///sample_point   \n",
              "0  [[[1936.818, 2509.317], []], [[732.12, 2473.49...  \\\n",
              "1  [[[430.798, 1477.556], []], [[254.988, 1451.37...   \n",
              "2  [[[552.606, 554.005], []], [[2016.599, 358.272...   \n",
              "\n",
              "                 annotation///line///sample_polyline  ...   \n",
              "0  [[[[1416.479, 1962.584], [2768.229, 2235.95], ...  ...  \\\n",
              "1  [[[[9.975, 1548.628], [797.382, 1658.978], [12...  ...   \n",
              "2  [[[[19.204, 489.905], [558.329, 811.549], [955...  ...   \n",
              "\n",
              "  annotation///text///sample_free_text_question   \n",
              "0                                           NaN  \\\n",
              "1                      [['Sample text answer']]   \n",
              "2                                           NaN   \n",
              "\n",
              "                   attachment///image///sample_col_1   \n",
              "0  https://storage.googleapis.com/labelbox-sample...  \\\n",
              "1  https://storage.googleapis.com/labelbox-sample...   \n",
              "2  https://storage.googleapis.com/labelbox-sample...   \n",
              "\n",
              "                   attachment///video///sample_col_2   \n",
              "0  https://storage.googleapis.com/labelbox-sample...  \\\n",
              "1  https://storage.googleapis.com/labelbox-sample...   \n",
              "2  https://storage.googleapis.com/labelbox-sample...   \n",
              "\n",
              "                attachment///text_url///sample_col_3   \n",
              "0  https://storage.googleapis.com/labelbox-sample...  \\\n",
              "1  https://storage.googleapis.com/labelbox-sample...   \n",
              "2  https://storage.googleapis.com/labelbox-sample...   \n",
              "\n",
              "  attachment///raw_text///sample_col_4   \n",
              "0                      Sample Raw Text  \\\n",
              "1                      Sample Raw Text   \n",
              "2                      Sample Raw Text   \n",
              "\n",
              "                    attachment///html///sample_col_5   \n",
              "0  https://storage.googleapis.com/labelbox-sample...  \\\n",
              "1  https://storage.googleapis.com/labelbox-sample...   \n",
              "2  https://storage.googleapis.com/labelbox-sample...   \n",
              "\n",
              "  metadata///string///LabelPandas-String   \n",
              "0                      Raw Text String 1  \\\n",
              "1                      Raw Text String 3   \n",
              "2                      Raw Text String 5   \n",
              "\n",
              "  metadata///number///LabelPandas-Number metadata///enum///LabelPandas-Enum   \n",
              "0                                   3999                                  A  \\\n",
              "1                                   2673                                  B   \n",
              "2                                   3409                                  C   \n",
              "\n",
              "  metadata///datetime///LabelPandas-Datetime  \n",
              "0                        01/30/1926 11:39 PM  \n",
              "1                        09/11/1925 12:09 PM  \n",
              "2                        06/28/1960 04:47 AM  \n",
              "\n",
              "[3 rows x 23 columns]"
            ]
          },
          "execution_count": 4,
          "metadata": {},
          "output_type": "execute_result"
        }
      ],
      "source": [
        "df = pd.read_csv(csv_path)\n",
        "df.head()"
      ]
    },
    {
      "cell_type": "markdown",
      "metadata": {
        "id": "XK9FulKXjanp"
      },
      "source": [
        "Create a project, dataset and ontology"
      ]
    },
    {
      "cell_type": "code",
      "execution_count": 5,
      "metadata": {
        "id": "80XhW4qW_tPl"
      },
      "outputs": [],
      "source": [
        "client = lp.Client(lb_api_key=api_key)"
      ]
    },
    {
      "cell_type": "code",
      "execution_count": 6,
      "metadata": {
        "colab": {
          "base_uri": "https://localhost:8080/"
        },
        "id": "OtSyhs0tjg0W",
        "outputId": "bf616884-6f3d-47df-b61f-f01eec74223e"
      },
      "outputs": [
        {
          "name": "stderr",
          "output_type": "stream",
          "text": [
            "Default createProject behavior will soon be adjusted to prefer batch projects. Pass in `queue_mode` parameter explicitly to opt-out for the time being.\n"
          ]
        }
      ],
      "source": [
        "project = client.lb_client.create_project(name=\"LabelPandas-demo\", media_type=lb.MediaType.Image)\n",
        "dataset = client.lb_client.create_dataset(name=\"LabelPandas-demo-dataset\")"
      ]
    },
    {
      "cell_type": "code",
      "execution_count": 7,
      "metadata": {
        "colab": {
          "base_uri": "https://localhost:8080/"
        },
        "id": "-A78bql9_wXb",
        "outputId": "89c71343-42f3-4ba5-f483-251a7af1da3a"
      },
      "outputs": [],
      "source": [
        "ontology_builder = lb.OntologyBuilder(\n",
        "    classifications=[ \n",
        "        lb.Classification( # Radio classification\n",
        "            class_type=lb.Classification.Type.RADIO, name=\"sample_radio_question\", \n",
        "            options=[lb.Option(value=\"sample_radio_answer_1\"), lb.Option(value=\"sample_radio_answer_2\")]\n",
        "        ),\n",
        "        lb.Classification( # Checklist classification\n",
        "            class_type=lb.Classification.Type.CHECKLIST, name=\"sample_checklist_question\", \n",
        "            options=[lb.Option(value=\"sample_checklist_answer_1\"), lb.Option(value=\"sample_checklist_answer_2\")]\n",
        "        ), \n",
        "        lb.Classification( # Text classification\n",
        "            class_type=lb.Classification.Type.TEXT, name=\"sample_free_text_question\"\n",
        "        ),\n",
        "        lb.Classification( # Radio classification where one answer has a nested radio classification\n",
        "            class_type=lb.Classification.Type.RADIO, name=\"sample_nested_radio_question\",\n",
        "            options=[\n",
        "                lb.Option(\n",
        "                    value=\"sample_branch_radio_answer_1\", \n",
        "                    options=[\n",
        "                        lb.Classification(\n",
        "                            class_type=lb.Classification.Type.RADIO, name=\"sample_sub_radio_question\", \n",
        "                            options=[lb.Option(\"sample_sub_radio_answer_1\"), lb.Option(\"sample_sub_radio_answer_2\")]\n",
        "                        )\n",
        "                    ]\n",
        "                ), \n",
        "                lb.Option(value=\"sample_leaf_radio_answer_2\")\n",
        "            ]\n",
        "        )\n",
        "    ],\n",
        "    tools=[ # List of Tool objects\n",
        "        lb.Tool( # Bounding Box tool\n",
        "            tool=lb.Tool.Type.BBOX, name=\"sample_bounding_box\"), \n",
        "        lb.Tool( # Bounding Box tool with a nested text classification\n",
        "            tool=lb.Tool.Type.BBOX,  name=\"sample_nested_bounding_box\",\n",
        "            classifications=[\n",
        "                lb.Classification(class_type=lb.Classification.Type.TEXT, name=\"sample_tool_sub_text_question\"),]\n",
        "        ),\n",
        "        lb.Tool( # Polygon tool\n",
        "            tool=lb.Tool.Type.POLYGON, name=\"sample_polygon\"\n",
        "        ),\n",
        "        lb.Tool( # Polygon tool with a nested radio classification\n",
        "            tool=lb.Tool.Type.POLYGON, name=\"sample_nested_polygon\",\n",
        "            classifications=[\n",
        "                lb.Classification(\n",
        "                    class_type=lb.Classification.Type.TEXT, name=\"sample_tool_sub_radio_question\",\n",
        "                    options=[lb.Option(\"sample_sub_radio_answer_1\"), lb.Option(\"sample_sub_radio_answer_2\")]\n",
        "                ),\n",
        "            ]            \n",
        "        ),        \n",
        "        lb.Tool( # Segmentation mask tool given the name \"mask\"\n",
        "            tool=lb.Tool.Type.SEGMENTATION, name=\"sample_segmentation_mask\"\n",
        "        ),\n",
        " \t      lb.Tool( # Point tool given the name \"point\"\n",
        "            tool=lb.Tool.Type.POINT, name=\"sample_point\"\n",
        "        ), \n",
        "        lb.Tool( # Polyline tool given the name \"line\"\n",
        "            tool=lb.Tool.Type.LINE, name=\"sample_polyline\"\n",
        "        )\n",
        "    ]\n",
        ")\n",
        "\n",
        "ontology = client.lb_client.create_ontology(\"LabelPandas-demo\", ontology_builder.asdict())\n",
        "\n",
        "project.setup_editor(ontology)"
      ]
    },
    {
      "cell_type": "markdown",
      "metadata": {
        "id": "hBmlAr0s_0-o"
      },
      "source": [
        "Upload to Labelbox"
      ]
    },
    {
      "cell_type": "code",
      "execution_count": 8,
      "metadata": {
        "colab": {
          "base_uri": "https://localhost:8080/"
        },
        "id": "R6eCh5THynje",
        "outputId": "c8716c02-ff00-4626-bbba-9fad75e0962e"
      },
      "outputs": [
        {
          "name": "stdout",
          "output_type": "stream",
          "text": [
            "Creating upload list - 3 rows in Pandas DataFrame\n",
            "Upload generated\n",
            "Beginning upload for Dataset with ID clh7zttoj054s07018q6n3lsn\n",
            "Vetting global keys\n",
            "Warning: Global keys in this upload are in use by active data rows, attempting to add the following suffix to affected data rows: '///1'\n",
            "Global keys vetted\n",
            "Beginning data row upload for Dataset with ID clh7zttoj054s07018q6n3lsn - uploading 3 data rows\n",
            "Batch #1: 3 data rows\n",
            "Success: Upload batch number 1 successful\n",
            "Upload complete - all data rows uploaded\n",
            "Sending 3 data rows to project with ID clh7ztt9p05s3072gbxkx4ofu\n",
            "All data rows have been batched to the specified project(s)\n",
            "Uploading annotations as submitted labels (Label Import)\n",
            "Uploading 51 annotations for 3 data rows to project with ID clh7ztt9p05s3072gbxkx4ofu\n",
            "Success: upload batch number 1 complete\n"
          ]
        }
      ],
      "source": [
        "results = client.create_data_rows_from_table(\n",
        "    table = df,\n",
        "    dataset_id = dataset.uid,\n",
        "    project_id = project.uid,\n",
        "    upload_method = \"import\", # Must be either \"import\" or \"mal\"\n",
        "    skip_duplicates = False, # If True, will skip data rows where a global key is already in use\n",
        "    mask_method = \"png\", # Input masks must be either \"png\", \"url\", or \"array\"\n",
        "    verbose = True, # If True, prints information about code execution\n",
        ")"
      ]
    }
  ],
  "metadata": {
    "colab": {
      "provenance": []
    },
    "kernelspec": {
      "display_name": "Python 3",
      "name": "python3"
    },
    "language_info": {
      "codemirror_mode": {
        "name": "ipython",
        "version": 3
      },
      "file_extension": ".py",
      "mimetype": "text/x-python",
      "name": "python",
      "nbconvert_exporter": "python",
      "pygments_lexer": "ipython3",
      "version": "3.10.7"
    }
  },
  "nbformat": 4,
  "nbformat_minor": 0
}
