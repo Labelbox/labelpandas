{
  "nbformat": 4,
  "nbformat_minor": 0,
  "metadata": {
    "colab": {
      "provenance": []
    },
    "kernelspec": {
      "name": "python3",
      "display_name": "Python 3"
    },
    "language_info": {
      "name": "python"
    }
  },
  "cells": [
    {
      "cell_type": "markdown",
      "source": [
        "<td>\n",
        "   <a target=\"_blank\" href=\"https://labelbox.com\" ><img src=\"https://labelbox.com/blog/content/images/2021/02/logo-v4.svg\" width=256/></a>\n",
        "</td>"
      ],
      "metadata": {
        "id": "1koGqb_DTUlO"
      }
    },
    {
      "cell_type": "markdown",
      "source": [
        "<td>\n",
        "<a href=\"https://colab.research.google.com/drive/14NMlKInqaI0sP9MqlPaCN1we5pRnWmX3\" target=\"_blank\"><img\n",
        "src=\"https://colab.research.google.com/assets/colab-badge.svg\" alt=\"Open In Colab\"></a>\n",
        "</td>\n",
        "\n",
        "<td>\n",
        "<a href=\"https://github.com/Labelbox/labelpandas/blob/main/notebooks/annotations.ipynb\" target=\"_blank\"><img\n",
        "src=\"https://img.shields.io/badge/GitHub-100000?logo=github&logoColor=white\" alt=\"GitHub\"></a>\n",
        "</td>"
      ],
      "metadata": {
        "id": "jLqs51c0TX51"
      }
    },
    {
      "cell_type": "markdown",
      "source": [
        "# _**Creating Data Rows with Annotations with LabelPandas**_"
      ],
      "metadata": {
        "id": "5EQSFEMXTYNN"
      }
    },
    {
      "cell_type": "markdown",
      "source": [
        "## _**Documentation**_"
      ],
      "metadata": {
        "id": "kE_aBOhjTYRJ"
      }
    },
    {
      "cell_type": "markdown",
      "source": [
        "### **Data Rows**\n",
        "_____________________"
      ],
      "metadata": {
        "id": "bgK_0696TdrB"
      }
    },
    {
      "cell_type": "markdown",
      "source": [
        "**Requirements:**\n",
        "\n",
        "- A `row_data` column - This column must be URLs that point to the asset to-be-uploaded\n",
        "\n",
        "- Either a `dataset_id` column or an input argument for `dataset_id`\n",
        "  - If uploading to multiple datasets, provide a `dataset_id` column \n",
        "  - If uploading to one dataset, provide a `dataset_id` input argument\n",
        "    - _This can still be a column if it's already in your CSV file_\n",
        "\n",
        "**Recommended:**\n",
        "- A `global_key` column\n",
        "  - This column contains unique identifiers for your data rows\n",
        "  - If none is provided, will default to your `row_data` column\n",
        "- An `external_id` column\n",
        "  - This column contains non-unique identifiers for your data rows\n",
        "  - If none is provided, will default to your `global_key` column  \n",
        "\n",
        "**Optional:**\n",
        "- A `project_id` columm or an input argument for `project_id`\n",
        "  - If batching to multiple projects, provide a `project_id` column\n",
        "  - If batching to one project, provide a `project_id` input argument\n",
        "    - _This can still be a column if it's already in your CSV file_"
      ],
      "metadata": {
        "id": "Nzg2mAEJTfYK"
      }
    },
    {
      "cell_type": "markdown",
      "source": [
        "### **Annotations**\n",
        "_____________________\n",
        "\n",
        "*Note:*\n",
        "*There must also be a `project_id` column, or an input argument for `project_id` when using LabelPandas to upload annotations*\n",
        "\n",
        "*There must also be an `upload_method` provided when using LabelPandas*\n",
        "  - *`upload_method` must be one of the following:*\n",
        "    - *`\"mal\"` (uploads annotations as pre-labels)*\n",
        "    - *`\"import\"` (uploads annotations as submitted labels)*"
      ],
      "metadata": {
        "id": "hfMOlB74TYUe"
      }
    },
    {
      "cell_type": "markdown",
      "source": [
        "\n",
        "- For annotations, the column name must be `annotation` + `divider` + `annotation_type` + `divider` + `top_level_feature_name`\n",
        "  - Example: `annotation///bbox///bbox_tool_name` where, in this case, the bounding tool name in your Labelbox ontology is \"bbox_tool_name\"\n",
        "  - `annotation_type` must be one of the following:\n",
        "    - `bbox`, `polygon`, `point`, `mask`, `line`, `named-entity`, `radio`, `checklist`, `text`\n",
        "- Values for annotations must correspond with the following, per annotation type:\n",
        "\n",
        "_____________________\n",
        "_____________________\n",
        "\n",
        "**Row-Level Formats for Tool Annotations**\n",
        "- `bbox` (this example is two annotations)\n",
        "```\n",
        "[\n",
        "        [[top, left, height, width], [nested_classification_name_paths]], \n",
        "        [[top, left, height, width], [nested_classification_name_paths]]\n",
        "]\n",
        "```\n",
        "- `polygon` (this example is two annotations)\n",
        "```\n",
        "[\n",
        "        [[(x, y), (x, y),...(x, y)], [nested_classification_name_paths]], \n",
        "        [[(x, y), (x, y),...(x, y)], [nested_classification_name_paths]]\n",
        "]\n",
        "```\n",
        "- `line` (this example is two annotations)\n",
        "```\n",
        "[\n",
        "        [[(x, y), (x, y),...(x, y)], [nested_classification_name_paths]], \n",
        "        [[(x, y), (x, y),...(x, y)], [nested_classification_name_paths]]\n",
        "]\n",
        "```\n",
        "- `point` (this example is two annotations)\n",
        "```\n",
        "[\n",
        "        [[x, y], [nested_classification_name_paths]], \n",
        "        [[x, y], [nested_classification_name_paths]]\n",
        "]\n",
        "```\n",
        "- `mask` (this example is two annotations)\n",
        "```\n",
        "[\n",
        "        [[URL, colorRGB], [nested_classification_name_paths]], \n",
        "        [[URL, colorRGB], [nested_classification_name_paths]]\n",
        "]\n",
        "                      OR\n",
        "[\n",
        "        [[numpy_array, colorRGB], [nested_classification_name_paths]], \n",
        "        [[numpy_array, colorRGB], [nested_classification_name_paths]]\n",
        "]\n",
        "                      OR\n",
        "[\n",
        "        [[png_bytes, None], [nested_classification_name_paths]], \n",
        "        [[png_bytes, None], [nested_classification_name_paths]]\n",
        "]\n",
        "```\n",
        "- `named-entity` (this example is two annotations)\n",
        "```\n",
        "[\n",
        "        [[start, end], [nested_classification_name_paths]], \n",
        "        [[start, end], [nested_classification_name_paths]]\n",
        "]\n",
        "```\n",
        "\n",
        "**Row-Level Formats for Classification Annotations**\n",
        "- `radio`, `checklist` and `text`\n",
        "```\n",
        "[[answer_name_paths]]\n",
        "```\n",
        "  - Note: the last string in a text name path is the text answer value itself\n",
        "_____________________\n",
        "_____________________  "
      ],
      "metadata": {
        "id": "kNdUik9JTiuq"
      }
    },
    {
      "cell_type": "markdown",
      "source": [
        "## _**Code**_"
      ],
      "metadata": {
        "id": "w3Z_AmoXTh9e"
      }
    },
    {
      "cell_type": "markdown",
      "source": [
        "Install LabelPandas"
      ],
      "metadata": {
        "id": "dHvrJ27kTq3z"
      }
    },
    {
      "cell_type": "code",
      "source": [
        "!pip install labelpandas --upgrade -q"
      ],
      "metadata": {
        "id": "KqUmeFdPTsXH",
        "colab": {
          "base_uri": "https://localhost:8080/"
        },
        "outputId": "a85eba89-3573-4160-d7fb-2a16b78aa948"
      },
      "execution_count": null,
      "outputs": [
        {
          "output_type": "stream",
          "name": "stdout",
          "text": [
            "\u001b[2K     \u001b[90m━━━━━━━━━━━━━━━━━━━━━━━━━━━━━━━━━━━━━━━\u001b[0m \u001b[32m189.2/189.2 KB\u001b[0m \u001b[31m2.9 MB/s\u001b[0m eta \u001b[36m0:00:00\u001b[0m\n",
            "\u001b[2K     \u001b[90m━━━━━━━━━━━━━━━━━━━━━━━━━━━━━━━━━━━━━━━━\u001b[0m \u001b[32m7.8/7.8 MB\u001b[0m \u001b[31m9.8 MB/s\u001b[0m eta \u001b[36m0:00:00\u001b[0m\n",
            "\u001b[?25h  Preparing metadata (setup.py) ... \u001b[?25l\u001b[?25hdone\n",
            "  Building wheel for pygeotile (setup.py) ... \u001b[?25l\u001b[?25hdone\n"
          ]
        }
      ]
    },
    {
      "cell_type": "code",
      "source": [
        "import labelpandas as lp\n",
        "import pandas as pd\n",
        "# Imported to create an example ontology - not required for typical runs of LabelPandas\n",
        "from labelbox.schema.ontology import OntologyBuilder, Tool, Classification, Option"
      ],
      "metadata": {
        "id": "5s8IaalgTtka"
      },
      "execution_count": null,
      "outputs": []
    },
    {
      "cell_type": "code",
      "source": [
        "csv_path = \"https://raw.githubusercontent.com/Labelbox/labelpandas/main/datasets/annotations.csv\" # Path to your CSV file\n",
        "api_key = \"\" # Labelbox API Key"
      ],
      "metadata": {
        "id": "-7HKYdZKTYX2"
      },
      "execution_count": null,
      "outputs": []
    },
    {
      "cell_type": "markdown",
      "source": [
        "Load a CSV"
      ],
      "metadata": {
        "id": "WuR1EJwpT23u"
      }
    },
    {
      "cell_type": "code",
      "source": [
        "df = pd.read_csv(csv_path)\n",
        "df.head()"
      ],
      "metadata": {
        "id": "ufjX0ldFTYbY",
        "colab": {
          "base_uri": "https://localhost:8080/",
          "height": 312
        },
        "outputId": "46e95420-7926-4a5b-cc3e-29614ab493fa"
      },
      "execution_count": null,
      "outputs": [
        {
          "output_type": "execute_result",
          "data": {
            "text/plain": [
              "                                          global_key  \\\n",
              "0  labelpandas-annotations-test-gCbn5IeZtE92OaUby...   \n",
              "1  labelpandas-annotations-test-1MnLIosQZmXH3T-iU...   \n",
              "2  labelpandas-annotations-test-qm4W6ktKCGR22n21A...   \n",
              "\n",
              "                                            row_data  \\\n",
              "0  https://labelbox.s3-us-west-2.amazonaws.com/da...   \n",
              "1  https://labelbox.s3-us-west-2.amazonaws.com/da...   \n",
              "2  https://labelbox.s3-us-west-2.amazonaws.com/da...   \n",
              "\n",
              "                  external_id  \\\n",
              "0  gCbn5IeZtE92OaUbyl1ZjQ.jpg   \n",
              "1  1MnLIosQZmXH3T-iU-4mtQ.jpg   \n",
              "2  qm4W6ktKCGR22n21A3o_0A.jpg   \n",
              "\n",
              "             annotation///bbox///sample_bounding_box  \\\n",
              "0  [[[1853, 191, 213, 304], []], [[1828, 749, 154...   \n",
              "1                     [[[1463, 2155, 125, 200], []]]   \n",
              "2  [[[1315, 2003, 147, 350], []], [[1340, 913, 12...   \n",
              "\n",
              "      annotation///bbox///sample_nested_bounding_box  \\\n",
              "0  [[[1813, 1066, 259, 285], ['sample_tool_sub_te...   \n",
              "1                      [[[1362, 938, 237, 198], []]]   \n",
              "2  [[[999, 25, 146, 350], ['sample_tool_sub_text_...   \n",
              "\n",
              "               annotation///polygon///sample_polygon  \\\n",
              "0  [[[[3363.98, 1180.19], [3205.616, 1349.865], [...   \n",
              "1  [[[[19.327, 2805.486], [701.995, 2515.586], [1...   \n",
              "2  [[[[2000.574, 856.19], [2023.466, 944.327], [2...   \n",
              "\n",
              "        annotation///polygon///sample_nested_polygon  \\\n",
              "0  [[[[1341.067, 2550.793], [1412.708, 2545.137],...   \n",
              "1  [[[[1902.743, 1460.723], [1897.132, 1543.017],...   \n",
              "2  [[[[1775.08, 967.219], [1759.055, 1003.848], [...   \n",
              "\n",
              "        annotation///mask///sample_segmentation_mask  \\\n",
              "0  [[['iVBORw0KGgoAAAANSUhEUgAAD8AAAAvQCAAAAADlnp...   \n",
              "1  [[['iVBORw0KGgoAAAANSUhEUgAAD6AAAAu4CAAAAADQ3h...   \n",
              "2  [[['iVBORw0KGgoAAAANSUhEUgAADMAAAAcsCAAAAADZjE...   \n",
              "\n",
              "                   annotation///point///sample_point  \\\n",
              "0  [[[1936.818, 2509.317], []], [[732.12, 2473.49...   \n",
              "1  [[[430.798, 1477.556], []], [[254.988, 1451.37...   \n",
              "2  [[[552.606, 554.005], []], [[2016.599, 358.272...   \n",
              "\n",
              "                 annotation///line///sample_polyline  \\\n",
              "0  [[[[1416.479, 1962.584], [2768.229, 2235.95], ...   \n",
              "1  [[[[9.975, 1548.628], [797.382, 1658.978], [12...   \n",
              "2  [[[[19.204, 489.905], [558.329, 811.549], [955...   \n",
              "\n",
              "  annotation///checklist///sample_checklist_question  \\\n",
              "0                    [['sample_checklist_answer_1']]   \n",
              "1  [['sample_checklist_answer_1', 'sample_checkli...   \n",
              "2                    [['sample_checklist_answer_1']]   \n",
              "\n",
              "   annotation///radio///sample_nested_radio_question  \\\n",
              "0  [['sample_branch_radio_answer_1///sample_sub_r...   \n",
              "1                 [['sample_branch_radio_answer_1']]   \n",
              "2                   [['sample_leaf_radio_answer_2']]   \n",
              "\n",
              "  annotation///radio///sample_radio_question  \\\n",
              "0                [['sample_radio_answer_1']]   \n",
              "1                [['sample_radio_answer_2']]   \n",
              "2                [['sample_radio_answer_1']]   \n",
              "\n",
              "  annotation///text///sample_free_text_question  \n",
              "0                                           NaN  \n",
              "1                      [['Sample text answer']]  \n",
              "2                                           NaN  "
            ],
            "text/html": [
              "\n",
              "  <div id=\"df-00555236-ee87-467f-998c-9950e9c03159\">\n",
              "    <div class=\"colab-df-container\">\n",
              "      <div>\n",
              "<style scoped>\n",
              "    .dataframe tbody tr th:only-of-type {\n",
              "        vertical-align: middle;\n",
              "    }\n",
              "\n",
              "    .dataframe tbody tr th {\n",
              "        vertical-align: top;\n",
              "    }\n",
              "\n",
              "    .dataframe thead th {\n",
              "        text-align: right;\n",
              "    }\n",
              "</style>\n",
              "<table border=\"1\" class=\"dataframe\">\n",
              "  <thead>\n",
              "    <tr style=\"text-align: right;\">\n",
              "      <th></th>\n",
              "      <th>global_key</th>\n",
              "      <th>row_data</th>\n",
              "      <th>external_id</th>\n",
              "      <th>annotation///bbox///sample_bounding_box</th>\n",
              "      <th>annotation///bbox///sample_nested_bounding_box</th>\n",
              "      <th>annotation///polygon///sample_polygon</th>\n",
              "      <th>annotation///polygon///sample_nested_polygon</th>\n",
              "      <th>annotation///mask///sample_segmentation_mask</th>\n",
              "      <th>annotation///point///sample_point</th>\n",
              "      <th>annotation///line///sample_polyline</th>\n",
              "      <th>annotation///checklist///sample_checklist_question</th>\n",
              "      <th>annotation///radio///sample_nested_radio_question</th>\n",
              "      <th>annotation///radio///sample_radio_question</th>\n",
              "      <th>annotation///text///sample_free_text_question</th>\n",
              "    </tr>\n",
              "  </thead>\n",
              "  <tbody>\n",
              "    <tr>\n",
              "      <th>0</th>\n",
              "      <td>labelpandas-annotations-test-gCbn5IeZtE92OaUby...</td>\n",
              "      <td>https://labelbox.s3-us-west-2.amazonaws.com/da...</td>\n",
              "      <td>gCbn5IeZtE92OaUbyl1ZjQ.jpg</td>\n",
              "      <td>[[[1853, 191, 213, 304], []], [[1828, 749, 154...</td>\n",
              "      <td>[[[1813, 1066, 259, 285], ['sample_tool_sub_te...</td>\n",
              "      <td>[[[[3363.98, 1180.19], [3205.616, 1349.865], [...</td>\n",
              "      <td>[[[[1341.067, 2550.793], [1412.708, 2545.137],...</td>\n",
              "      <td>[[['iVBORw0KGgoAAAANSUhEUgAAD8AAAAvQCAAAAADlnp...</td>\n",
              "      <td>[[[1936.818, 2509.317], []], [[732.12, 2473.49...</td>\n",
              "      <td>[[[[1416.479, 1962.584], [2768.229, 2235.95], ...</td>\n",
              "      <td>[['sample_checklist_answer_1']]</td>\n",
              "      <td>[['sample_branch_radio_answer_1///sample_sub_r...</td>\n",
              "      <td>[['sample_radio_answer_1']]</td>\n",
              "      <td>NaN</td>\n",
              "    </tr>\n",
              "    <tr>\n",
              "      <th>1</th>\n",
              "      <td>labelpandas-annotations-test-1MnLIosQZmXH3T-iU...</td>\n",
              "      <td>https://labelbox.s3-us-west-2.amazonaws.com/da...</td>\n",
              "      <td>1MnLIosQZmXH3T-iU-4mtQ.jpg</td>\n",
              "      <td>[[[1463, 2155, 125, 200], []]]</td>\n",
              "      <td>[[[1362, 938, 237, 198], []]]</td>\n",
              "      <td>[[[[19.327, 2805.486], [701.995, 2515.586], [1...</td>\n",
              "      <td>[[[[1902.743, 1460.723], [1897.132, 1543.017],...</td>\n",
              "      <td>[[['iVBORw0KGgoAAAANSUhEUgAAD6AAAAu4CAAAAADQ3h...</td>\n",
              "      <td>[[[430.798, 1477.556], []], [[254.988, 1451.37...</td>\n",
              "      <td>[[[[9.975, 1548.628], [797.382, 1658.978], [12...</td>\n",
              "      <td>[['sample_checklist_answer_1', 'sample_checkli...</td>\n",
              "      <td>[['sample_branch_radio_answer_1']]</td>\n",
              "      <td>[['sample_radio_answer_2']]</td>\n",
              "      <td>[['Sample text answer']]</td>\n",
              "    </tr>\n",
              "    <tr>\n",
              "      <th>2</th>\n",
              "      <td>labelpandas-annotations-test-qm4W6ktKCGR22n21A...</td>\n",
              "      <td>https://labelbox.s3-us-west-2.amazonaws.com/da...</td>\n",
              "      <td>qm4W6ktKCGR22n21A3o_0A.jpg</td>\n",
              "      <td>[[[1315, 2003, 147, 350], []], [[1340, 913, 12...</td>\n",
              "      <td>[[[999, 25, 146, 350], ['sample_tool_sub_text_...</td>\n",
              "      <td>[[[[2000.574, 856.19], [2023.466, 944.327], [2...</td>\n",
              "      <td>[[[[1775.08, 967.219], [1759.055, 1003.848], [...</td>\n",
              "      <td>[[['iVBORw0KGgoAAAANSUhEUgAADMAAAAcsCAAAAADZjE...</td>\n",
              "      <td>[[[552.606, 554.005], []], [[2016.599, 358.272...</td>\n",
              "      <td>[[[[19.204, 489.905], [558.329, 811.549], [955...</td>\n",
              "      <td>[['sample_checklist_answer_1']]</td>\n",
              "      <td>[['sample_leaf_radio_answer_2']]</td>\n",
              "      <td>[['sample_radio_answer_1']]</td>\n",
              "      <td>NaN</td>\n",
              "    </tr>\n",
              "  </tbody>\n",
              "</table>\n",
              "</div>\n",
              "      <button class=\"colab-df-convert\" onclick=\"convertToInteractive('df-00555236-ee87-467f-998c-9950e9c03159')\"\n",
              "              title=\"Convert this dataframe to an interactive table.\"\n",
              "              style=\"display:none;\">\n",
              "        \n",
              "  <svg xmlns=\"http://www.w3.org/2000/svg\" height=\"24px\"viewBox=\"0 0 24 24\"\n",
              "       width=\"24px\">\n",
              "    <path d=\"M0 0h24v24H0V0z\" fill=\"none\"/>\n",
              "    <path d=\"M18.56 5.44l.94 2.06.94-2.06 2.06-.94-2.06-.94-.94-2.06-.94 2.06-2.06.94zm-11 1L8.5 8.5l.94-2.06 2.06-.94-2.06-.94L8.5 2.5l-.94 2.06-2.06.94zm10 10l.94 2.06.94-2.06 2.06-.94-2.06-.94-.94-2.06-.94 2.06-2.06.94z\"/><path d=\"M17.41 7.96l-1.37-1.37c-.4-.4-.92-.59-1.43-.59-.52 0-1.04.2-1.43.59L10.3 9.45l-7.72 7.72c-.78.78-.78 2.05 0 2.83L4 21.41c.39.39.9.59 1.41.59.51 0 1.02-.2 1.41-.59l7.78-7.78 2.81-2.81c.8-.78.8-2.07 0-2.86zM5.41 20L4 18.59l7.72-7.72 1.47 1.35L5.41 20z\"/>\n",
              "  </svg>\n",
              "      </button>\n",
              "      \n",
              "  <style>\n",
              "    .colab-df-container {\n",
              "      display:flex;\n",
              "      flex-wrap:wrap;\n",
              "      gap: 12px;\n",
              "    }\n",
              "\n",
              "    .colab-df-convert {\n",
              "      background-color: #E8F0FE;\n",
              "      border: none;\n",
              "      border-radius: 50%;\n",
              "      cursor: pointer;\n",
              "      display: none;\n",
              "      fill: #1967D2;\n",
              "      height: 32px;\n",
              "      padding: 0 0 0 0;\n",
              "      width: 32px;\n",
              "    }\n",
              "\n",
              "    .colab-df-convert:hover {\n",
              "      background-color: #E2EBFA;\n",
              "      box-shadow: 0px 1px 2px rgba(60, 64, 67, 0.3), 0px 1px 3px 1px rgba(60, 64, 67, 0.15);\n",
              "      fill: #174EA6;\n",
              "    }\n",
              "\n",
              "    [theme=dark] .colab-df-convert {\n",
              "      background-color: #3B4455;\n",
              "      fill: #D2E3FC;\n",
              "    }\n",
              "\n",
              "    [theme=dark] .colab-df-convert:hover {\n",
              "      background-color: #434B5C;\n",
              "      box-shadow: 0px 1px 3px 1px rgba(0, 0, 0, 0.15);\n",
              "      filter: drop-shadow(0px 1px 2px rgba(0, 0, 0, 0.3));\n",
              "      fill: #FFFFFF;\n",
              "    }\n",
              "  </style>\n",
              "\n",
              "      <script>\n",
              "        const buttonEl =\n",
              "          document.querySelector('#df-00555236-ee87-467f-998c-9950e9c03159 button.colab-df-convert');\n",
              "        buttonEl.style.display =\n",
              "          google.colab.kernel.accessAllowed ? 'block' : 'none';\n",
              "\n",
              "        async function convertToInteractive(key) {\n",
              "          const element = document.querySelector('#df-00555236-ee87-467f-998c-9950e9c03159');\n",
              "          const dataTable =\n",
              "            await google.colab.kernel.invokeFunction('convertToInteractive',\n",
              "                                                     [key], {});\n",
              "          if (!dataTable) return;\n",
              "\n",
              "          const docLinkHtml = 'Like what you see? Visit the ' +\n",
              "            '<a target=\"_blank\" href=https://colab.research.google.com/notebooks/data_table.ipynb>data table notebook</a>'\n",
              "            + ' to learn more about interactive tables.';\n",
              "          element.innerHTML = '';\n",
              "          dataTable['output_type'] = 'display_data';\n",
              "          await google.colab.output.renderOutput(dataTable, element);\n",
              "          const docLink = document.createElement('div');\n",
              "          docLink.innerHTML = docLinkHtml;\n",
              "          element.appendChild(docLink);\n",
              "        }\n",
              "      </script>\n",
              "    </div>\n",
              "  </div>\n",
              "  "
            ]
          },
          "metadata": {},
          "execution_count": 4
        }
      ]
    },
    {
      "cell_type": "markdown",
      "source": [
        "Create a Project and Dataset (for demonstration purposes only)"
      ],
      "metadata": {
        "id": "RVryImHmT4hH"
      }
    },
    {
      "cell_type": "code",
      "source": [
        "client = lp.Client(lb_api_key=api_key)"
      ],
      "metadata": {
        "id": "Nd8i9VeETYeu"
      },
      "execution_count": null,
      "outputs": []
    },
    {
      "cell_type": "code",
      "source": [
        "dataset = client.lb_client.create_dataset(name=\"LabelPandas-annotations\")\n",
        "project = client.lb_client.create_project(name=\"LabelPandas-annotations\")"
      ],
      "metadata": {
        "id": "3NB3ECtoT6jj",
        "colab": {
          "base_uri": "https://localhost:8080/"
        },
        "outputId": "5572afc6-962a-4cd0-87b3-0ffc40cde968"
      },
      "execution_count": null,
      "outputs": [
        {
          "output_type": "stream",
          "name": "stderr",
          "text": [
            "WARNING:labelbox.client:Creating a project without specifying media_type through this method will soon no longer be supported.\n",
            "WARNING:labelbox.client:Default createProject behavior will soon be adjusted to prefer batch projects. Pass in `queue_mode` parameter explicitly to opt-out for the time being.\n"
          ]
        }
      ]
    },
    {
      "cell_type": "code",
      "source": [
        "ontology_builder = OntologyBuilder(\n",
        "    classifications=[ \n",
        "        Classification( # Radio classification\n",
        "            class_type=Classification.Type.RADIO, instructions=\"sample_radio_question\", \n",
        "            options=[Option(value=\"sample_radio_answer_1\"), Option(value=\"sample_radio_answer_2\")]\n",
        "        ),\n",
        "        Classification( # Checklist classification\n",
        "            class_type=Classification.Type.CHECKLIST, instructions=\"sample_checklist_question\", \n",
        "            options=[Option(value=\"sample_checklist_answer_1\"), Option(value=\"sample_checklist_answer_2\")]\n",
        "        ), \n",
        "        Classification( # Text classification\n",
        "            class_type=Classification.Type.TEXT, instructions=\"sample_free_text_question\"\n",
        "        ),\n",
        "        Classification( # Radio classification where one answer has a nested radio classification\n",
        "            class_type=Classification.Type.RADIO, instructions=\"sample_nested_radio_question\",\n",
        "            options=[\n",
        "                Option(\n",
        "                    value=\"sample_branch_radio_answer_1\", \n",
        "                    options=[\n",
        "                        Classification(\n",
        "                            class_type=Classification.Type.RADIO, instructions=\"sample_sub_radio_question\", \n",
        "                            options=[Option(\"sample_sub_radio_answer_1\"), Option(\"sample_sub_radio_answer_2\")]\n",
        "                        )\n",
        "                    ]\n",
        "                ), \n",
        "                Option(value=\"sample_leaf_radio_answer_2\")\n",
        "            ]\n",
        "        )\n",
        "    ],\n",
        "    tools=[ # List of Tool objects\n",
        "        Tool( # Bounding Box tool\n",
        "            tool=Tool.Type.BBOX, name=\"sample_bounding_box\"), \n",
        "        Tool( # Bounding Box tool with a nested text classification\n",
        "            tool=Tool.Type.BBOX,  name=\"sample_nested_bounding_box\",\n",
        "            classifications=[\n",
        "                Classification(class_type=Classification.Type.TEXT, instructions=\"sample_tool_sub_text_question\"),]\n",
        "        ),\n",
        "        Tool( # Polygon tool\n",
        "            tool=Tool.Type.POLYGON, name=\"sample_polygon\"\n",
        "        ),\n",
        "        Tool( # Polygon tool with a nested radio classification\n",
        "            tool=Tool.Type.POLYGON, name=\"sample_nested_polygon\",\n",
        "            classifications=[\n",
        "                Classification(\n",
        "                    class_type=Classification.Type.TEXT, instructions=\"sample_tool_sub_radio_question\",\n",
        "                    options=[Option(\"sample_sub_radio_answer_1\"), Option(\"sample_sub_radio_answer_2\")]\n",
        "                ),\n",
        "            ]            \n",
        "        ),        \n",
        "        Tool( # Segmentation mask tool given the name \"mask\"\n",
        "            tool=Tool.Type.SEGMENTATION, name=\"sample_segmentation_mask\"\n",
        "        ),\n",
        " \t      Tool( # Point tool given the name \"point\"\n",
        "            tool=Tool.Type.POINT, name=\"sample_point\"\n",
        "        ), \n",
        "        Tool( # Polyline tool given the name \"line\"\n",
        "            tool=Tool.Type.LINE, name=\"sample_polyline\"\n",
        "        )\n",
        "    ]\n",
        ")\n",
        "\n",
        "ontology = client.lb_client.create_ontology(\"LabelPandas-annotations\", ontology_builder.asdict())\n",
        "\n",
        "project.setup_editor(ontology)"
      ],
      "metadata": {
        "colab": {
          "base_uri": "https://localhost:8080/"
        },
        "id": "0X3zSCCJ8It5",
        "outputId": "87076182-5f61-4e0d-9674-22af2f1f8bd7"
      },
      "execution_count": null,
      "outputs": [
        {
          "output_type": "stream",
          "name": "stderr",
          "text": [
            "/usr/local/lib/python3.8/dist-packages/labelbox/schema/ontology.py:159: UserWarning: When creating the Classification feature, please use “name” for the classification schema name, which will be used when creating annotation payload for Model-Assisted Labeling Import and Label Import. “instructions” is no longer supported to specify classification schema name.\n",
            "  warnings.warn(msg)\n"
          ]
        }
      ]
    },
    {
      "cell_type": "markdown",
      "source": [
        "Upload to Labelbox"
      ],
      "metadata": {
        "id": "pXpCR6JNT733"
      }
    },
    {
      "cell_type": "code",
      "source": [
        "results = client.create_data_rows_from_table(\n",
        "    table = df,\n",
        "    dataset_id = dataset.uid,\n",
        "    project_id = project.uid,\n",
        "    upload_method = \"import\", # Must be either \"import\" or \"mal\"\n",
        "    skip_duplicates = False, # If True, will skip data rows where a global key is already in use\n",
        "    mask_method = \"png\", # Input masks must be either \"png\", \"url\", or \"array\"\n",
        "    verbose = True, # If True, prints information about code execution\n",
        ")"
      ],
      "metadata": {
        "id": "84l-0-j3T9kA",
        "colab": {
          "base_uri": "https://localhost:8080/"
        },
        "outputId": "2c49ba0a-2c57-4fd8-ddeb-406cac602201"
      },
      "execution_count": null,
      "outputs": [
        {
          "output_type": "stream",
          "name": "stdout",
          "text": [
            "Creating upload list - 3 rows in Pandas DataFrame\n",
            "Beginning data row upload for dataset ID cleesmidf7teh070l571h1tnp: uploading 3 data rows\n",
            "Batch #1: 3 data rows\n",
            "Success: Upload batch number 1 successful\n",
            "Upload complete - all data rows uploaded\n",
            "Sending 3 data rows to project with ID cleesmjip2cg107yz3hyzf5hl\n",
            "All data rows have been batched to the specified project(s)\n",
            "Uploading annotations as submitted labels (Label Import)\n",
            "Uploading 51 annotations for 3 data rows to project with ID cleesmjip2cg107yz3hyzf5hl\n",
            "Success: upload batch number 1 complete\n"
          ]
        }
      ]
    }
  ]
}
