{
  "nbformat": 4,
  "nbformat_minor": 0,
  "metadata": {
    "colab": {
      "provenance": []
    },
    "kernelspec": {
      "name": "python3",
      "display_name": "Python 3"
    },
    "language_info": {
      "name": "python"
    }
  },
  "cells": [
    {
      "cell_type": "markdown",
      "source": [
        "<td>\n",
        "   <a target=\"_blank\" href=\"https://labelbox.com\" ><img src=\"https://labelbox.com/blog/content/images/2021/02/logo-v4.svg\" width=256/></a>\n",
        "</td>"
      ],
      "metadata": {
        "id": "z-Oj3xf99mKw"
      }
    },
    {
      "cell_type": "markdown",
      "source": [
        "<td>\n",
        "<a href=\"https://colab.research.google.com/drive/1oMEenCfGl19MtRfHdCNdsjGxwDqlo085\" target=\"_blank\"><img\n",
        "src=\"https://colab.research.google.com/assets/colab-badge.svg\" alt=\"Open In Colab\"></a>\n",
        "</td>\n",
        "\n",
        "<td>\n",
        "<a href=\"https://github.com/Labelbox/labelpandas/blob/main/notebooks/attachments.ipynb\" target=\"_blank\"><img\n",
        "src=\"https://img.shields.io/badge/GitHub-100000?logo=github&logoColor=white\" alt=\"GitHub\"></a>\n",
        "</td>"
      ],
      "metadata": {
        "id": "HDAJUJeo9oi2"
      }
    },
    {
      "cell_type": "markdown",
      "source": [
        "# _**Creating Data Rows with Attachments with LabelPandas**_"
      ],
      "metadata": {
        "id": "5AYNC8v29z1Q"
      }
    },
    {
      "cell_type": "markdown",
      "source": [
        "## _**Documentation**_"
      ],
      "metadata": {
        "id": "5cbHfXSZ-mOI"
      }
    },
    {
      "cell_type": "markdown",
      "source": [
        "### **Data Rows**\n",
        "_____________________"
      ],
      "metadata": {
        "id": "LliqTKrMszpJ"
      }
    },
    {
      "cell_type": "markdown",
      "source": [
        "**Requirements:**\n",
        "\n",
        "- A `row_data` column - This column must be URLs that point to the asset to-be-uploaded\n",
        "\n",
        "- Either a `dataset_id` column or an input argument for `dataset_id`\n",
        "  - If uploading to multiple datasets, provide a `dataset_id` column \n",
        "  - If uploading to one dataset, provide a `dataset_id` input argument\n",
        "    - _This can still be a column if it's already in your CSV file_\n",
        "\n",
        "**Recommended:**\n",
        "- A `global_key` column\n",
        "  - This column contains unique identifiers for your data rows\n",
        "  - If none is provided, will default to your `row_data` column\n",
        "- An `external_id` column\n",
        "  - This column contains non-unique identifiers for your data rows\n",
        "  - If none is provided, will default to your `global_key` column  \n",
        "\n",
        "**Optional:**\n",
        "- A `project_id` columm or an input argument for `project_id`\n",
        "  - If batching to multiple projects, provide a `project_id` column\n",
        "  - If batching to one project, provide a `project_id` input argument\n",
        "    - _This can still be a column if it's already in your CSV file_"
      ],
      "metadata": {
        "id": "cwEpHUby952F"
      }
    },
    {
      "cell_type": "markdown",
      "source": [
        "### **Attachments**\n",
        "_____________________"
      ],
      "metadata": {
        "id": "TuVbore5syCU"
      }
    },
    {
      "cell_type": "markdown",
      "source": [
        "For attachments, the column name must be \" `attachment` + `divider` + `attachment_type` + `divider` + `column_name` \"\n",
        "  - Example: `attachment///raw_text///sample_column_name`\n",
        "  - `attachment_type` must be one of the following:\n",
        "    - `image`, `video`, `raw_text`, `html`, `text_url`\n",
        "\n",
        "\n",
        "Values for attachments must correspond with the attachment type per Labelbox docs\n",
        "  - More here: \n",
        "    - [Labelbox docs on attachments](https://docs.labelbox.com/docs/asset-attachments)"
      ],
      "metadata": {
        "id": "YZZjlfVbsvj-"
      }
    },
    {
      "cell_type": "markdown",
      "source": [
        "## _**Code**_"
      ],
      "metadata": {
        "id": "c_fVJPX393rp"
      }
    },
    {
      "cell_type": "markdown",
      "source": [
        "Install LabelPandas"
      ],
      "metadata": {
        "id": "x5VXUdFE--XI"
      }
    },
    {
      "cell_type": "code",
      "execution_count": null,
      "metadata": {
        "id": "LOZffjDK3cHG"
      },
      "outputs": [],
      "source": [
        "!pip install labelpandas --upgrade -q"
      ]
    },
    {
      "cell_type": "code",
      "source": [
        "import labelpandas as lp\n",
        "import pandas as pd"
      ],
      "metadata": {
        "id": "sRozyJUX9YVy"
      },
      "execution_count": null,
      "outputs": []
    },
    {
      "cell_type": "markdown",
      "source": [
        "Define runtime variables"
      ],
      "metadata": {
        "id": "Zuckb5Bf_LLw"
      }
    },
    {
      "cell_type": "code",
      "source": [
        "csv_path = \"https://raw.githubusercontent.com/Labelbox/labelpandas/main/datasets/attachments.csv\" # Path to your CSV file\n",
        "api_key = \"\" # Labelbox API Key"
      ],
      "metadata": {
        "id": "QwZysJDY_Mvf"
      },
      "execution_count": null,
      "outputs": []
    },
    {
      "cell_type": "markdown",
      "source": [
        "Load a CSV"
      ],
      "metadata": {
        "id": "_qMWUpby_Bb6"
      }
    },
    {
      "cell_type": "code",
      "source": [
        "df = pd.read_csv(csv_path)\n",
        "df.head(10)"
      ],
      "metadata": {
        "colab": {
          "base_uri": "https://localhost:8080/",
          "height": 774
        },
        "id": "fQYQZ-eR9fWW",
        "outputId": "d94e68c7-4989-4d54-865b-5b1a7926b23a"
      },
      "execution_count": null,
      "outputs": [
        {
          "output_type": "execute_result",
          "data": {
            "text/plain": [
              "                  external_id  \\\n",
              "0  Euq7yrfb8tbDFpd-cv_cpg.jpg   \n",
              "1  gCbn5IeZtE92OaUbyl1ZjQ.jpg   \n",
              "2  9Y6-Vl3bwsZFTNxX8gqHYw.jpg   \n",
              "3  1MnLIosQZmXH3T-iU-4mtQ.jpg   \n",
              "4  y_9N4kVjlc_AO3C63k2L9w.jpg   \n",
              "5  qm4W6ktKCGR22n21A3o_0A.jpg   \n",
              "6  pmkRRbZGfIYr-2YN8gwK2Q.jpg   \n",
              "7  2J23mch-V41VdHYVvedGWw.jpg   \n",
              "8  9GvpiX9gvFLLpzGN5CCcqA.jpg   \n",
              "9  -nvTzJ-2am0mxQPqnZzZBA.jpg   \n",
              "\n",
              "                                            row_data  \\\n",
              "0  https://labelbox.s3-us-west-2.amazonaws.com/da...   \n",
              "1  https://labelbox.s3-us-west-2.amazonaws.com/da...   \n",
              "2  https://labelbox.s3-us-west-2.amazonaws.com/da...   \n",
              "3  https://labelbox.s3-us-west-2.amazonaws.com/da...   \n",
              "4  https://labelbox.s3-us-west-2.amazonaws.com/da...   \n",
              "5  https://labelbox.s3-us-west-2.amazonaws.com/da...   \n",
              "6  https://labelbox.s3-us-west-2.amazonaws.com/da...   \n",
              "7  https://labelbox.s3-us-west-2.amazonaws.com/da...   \n",
              "8  https://labelbox.s3-us-west-2.amazonaws.com/da...   \n",
              "9  https://labelbox.s3-us-west-2.amazonaws.com/da...   \n",
              "\n",
              "                                          global_key  \\\n",
              "0  labelpandas-attachments-test-Euq7yrfb8tbDFpd-c...   \n",
              "1  labelpandas-attachments-test-gCbn5IeZtE92OaUby...   \n",
              "2  labelpandas-attachments-test-9Y6-Vl3bwsZFTNxX8...   \n",
              "3  labelpandas-attachments-test-1MnLIosQZmXH3T-iU...   \n",
              "4  labelpandas-attachments-test-y_9N4kVjlc_AO3C63...   \n",
              "5  labelpandas-attachments-test-qm4W6ktKCGR22n21A...   \n",
              "6  labelpandas-attachments-test-pmkRRbZGfIYr-2YN8...   \n",
              "7  labelpandas-attachments-test-2J23mch-V41VdHYVv...   \n",
              "8  labelpandas-attachments-test-9GvpiX9gvFLLpzGN5...   \n",
              "9  labelpandas-attachments-test--nvTzJ-2am0mxQPqn...   \n",
              "\n",
              "                   attachment///image///sample_col_1  \\\n",
              "0  https://storage.googleapis.com/labelbox-sample...   \n",
              "1  https://storage.googleapis.com/labelbox-sample...   \n",
              "2  https://storage.googleapis.com/labelbox-sample...   \n",
              "3  https://storage.googleapis.com/labelbox-sample...   \n",
              "4  https://storage.googleapis.com/labelbox-sample...   \n",
              "5  https://storage.googleapis.com/labelbox-sample...   \n",
              "6  https://storage.googleapis.com/labelbox-sample...   \n",
              "7  https://storage.googleapis.com/labelbox-sample...   \n",
              "8  https://storage.googleapis.com/labelbox-sample...   \n",
              "9  https://storage.googleapis.com/labelbox-sample...   \n",
              "\n",
              "                   attachment///video///sample_col_2  \\\n",
              "0  https://storage.googleapis.com/labelbox-sample...   \n",
              "1  https://storage.googleapis.com/labelbox-sample...   \n",
              "2  https://storage.googleapis.com/labelbox-sample...   \n",
              "3  https://storage.googleapis.com/labelbox-sample...   \n",
              "4  https://storage.googleapis.com/labelbox-sample...   \n",
              "5  https://storage.googleapis.com/labelbox-sample...   \n",
              "6  https://storage.googleapis.com/labelbox-sample...   \n",
              "7  https://storage.googleapis.com/labelbox-sample...   \n",
              "8  https://storage.googleapis.com/labelbox-sample...   \n",
              "9  https://storage.googleapis.com/labelbox-sample...   \n",
              "\n",
              "                attachment///text_url///sample_col_3  \\\n",
              "0  https://storage.googleapis.com/labelbox-sample...   \n",
              "1  https://storage.googleapis.com/labelbox-sample...   \n",
              "2  https://storage.googleapis.com/labelbox-sample...   \n",
              "3  https://storage.googleapis.com/labelbox-sample...   \n",
              "4  https://storage.googleapis.com/labelbox-sample...   \n",
              "5  https://storage.googleapis.com/labelbox-sample...   \n",
              "6  https://storage.googleapis.com/labelbox-sample...   \n",
              "7  https://storage.googleapis.com/labelbox-sample...   \n",
              "8  https://storage.googleapis.com/labelbox-sample...   \n",
              "9  https://storage.googleapis.com/labelbox-sample...   \n",
              "\n",
              "  attachment///raw_text///sample_col_4  \\\n",
              "0                      Sample Raw Text   \n",
              "1                      Sample Raw Text   \n",
              "2                      Sample Raw Text   \n",
              "3                      Sample Raw Text   \n",
              "4                      Sample Raw Text   \n",
              "5                      Sample Raw Text   \n",
              "6                      Sample Raw Text   \n",
              "7                      Sample Raw Text   \n",
              "8                      Sample Raw Text   \n",
              "9                      Sample Raw Text   \n",
              "\n",
              "                    attachment///html///sample_col_5  \n",
              "0  https://storage.googleapis.com/labelbox-sample...  \n",
              "1  https://storage.googleapis.com/labelbox-sample...  \n",
              "2  https://storage.googleapis.com/labelbox-sample...  \n",
              "3  https://storage.googleapis.com/labelbox-sample...  \n",
              "4  https://storage.googleapis.com/labelbox-sample...  \n",
              "5  https://storage.googleapis.com/labelbox-sample...  \n",
              "6  https://storage.googleapis.com/labelbox-sample...  \n",
              "7  https://storage.googleapis.com/labelbox-sample...  \n",
              "8  https://storage.googleapis.com/labelbox-sample...  \n",
              "9  https://storage.googleapis.com/labelbox-sample...  "
            ],
            "text/html": [
              "\n",
              "  <div id=\"df-de864794-d1e8-4f63-a087-bbe53517a4f7\">\n",
              "    <div class=\"colab-df-container\">\n",
              "      <div>\n",
              "<style scoped>\n",
              "    .dataframe tbody tr th:only-of-type {\n",
              "        vertical-align: middle;\n",
              "    }\n",
              "\n",
              "    .dataframe tbody tr th {\n",
              "        vertical-align: top;\n",
              "    }\n",
              "\n",
              "    .dataframe thead th {\n",
              "        text-align: right;\n",
              "    }\n",
              "</style>\n",
              "<table border=\"1\" class=\"dataframe\">\n",
              "  <thead>\n",
              "    <tr style=\"text-align: right;\">\n",
              "      <th></th>\n",
              "      <th>external_id</th>\n",
              "      <th>row_data</th>\n",
              "      <th>global_key</th>\n",
              "      <th>attachment///image///sample_col_1</th>\n",
              "      <th>attachment///video///sample_col_2</th>\n",
              "      <th>attachment///text_url///sample_col_3</th>\n",
              "      <th>attachment///raw_text///sample_col_4</th>\n",
              "      <th>attachment///html///sample_col_5</th>\n",
              "    </tr>\n",
              "  </thead>\n",
              "  <tbody>\n",
              "    <tr>\n",
              "      <th>0</th>\n",
              "      <td>Euq7yrfb8tbDFpd-cv_cpg.jpg</td>\n",
              "      <td>https://labelbox.s3-us-west-2.amazonaws.com/da...</td>\n",
              "      <td>labelpandas-attachments-test-Euq7yrfb8tbDFpd-c...</td>\n",
              "      <td>https://storage.googleapis.com/labelbox-sample...</td>\n",
              "      <td>https://storage.googleapis.com/labelbox-sample...</td>\n",
              "      <td>https://storage.googleapis.com/labelbox-sample...</td>\n",
              "      <td>Sample Raw Text</td>\n",
              "      <td>https://storage.googleapis.com/labelbox-sample...</td>\n",
              "    </tr>\n",
              "    <tr>\n",
              "      <th>1</th>\n",
              "      <td>gCbn5IeZtE92OaUbyl1ZjQ.jpg</td>\n",
              "      <td>https://labelbox.s3-us-west-2.amazonaws.com/da...</td>\n",
              "      <td>labelpandas-attachments-test-gCbn5IeZtE92OaUby...</td>\n",
              "      <td>https://storage.googleapis.com/labelbox-sample...</td>\n",
              "      <td>https://storage.googleapis.com/labelbox-sample...</td>\n",
              "      <td>https://storage.googleapis.com/labelbox-sample...</td>\n",
              "      <td>Sample Raw Text</td>\n",
              "      <td>https://storage.googleapis.com/labelbox-sample...</td>\n",
              "    </tr>\n",
              "    <tr>\n",
              "      <th>2</th>\n",
              "      <td>9Y6-Vl3bwsZFTNxX8gqHYw.jpg</td>\n",
              "      <td>https://labelbox.s3-us-west-2.amazonaws.com/da...</td>\n",
              "      <td>labelpandas-attachments-test-9Y6-Vl3bwsZFTNxX8...</td>\n",
              "      <td>https://storage.googleapis.com/labelbox-sample...</td>\n",
              "      <td>https://storage.googleapis.com/labelbox-sample...</td>\n",
              "      <td>https://storage.googleapis.com/labelbox-sample...</td>\n",
              "      <td>Sample Raw Text</td>\n",
              "      <td>https://storage.googleapis.com/labelbox-sample...</td>\n",
              "    </tr>\n",
              "    <tr>\n",
              "      <th>3</th>\n",
              "      <td>1MnLIosQZmXH3T-iU-4mtQ.jpg</td>\n",
              "      <td>https://labelbox.s3-us-west-2.amazonaws.com/da...</td>\n",
              "      <td>labelpandas-attachments-test-1MnLIosQZmXH3T-iU...</td>\n",
              "      <td>https://storage.googleapis.com/labelbox-sample...</td>\n",
              "      <td>https://storage.googleapis.com/labelbox-sample...</td>\n",
              "      <td>https://storage.googleapis.com/labelbox-sample...</td>\n",
              "      <td>Sample Raw Text</td>\n",
              "      <td>https://storage.googleapis.com/labelbox-sample...</td>\n",
              "    </tr>\n",
              "    <tr>\n",
              "      <th>4</th>\n",
              "      <td>y_9N4kVjlc_AO3C63k2L9w.jpg</td>\n",
              "      <td>https://labelbox.s3-us-west-2.amazonaws.com/da...</td>\n",
              "      <td>labelpandas-attachments-test-y_9N4kVjlc_AO3C63...</td>\n",
              "      <td>https://storage.googleapis.com/labelbox-sample...</td>\n",
              "      <td>https://storage.googleapis.com/labelbox-sample...</td>\n",
              "      <td>https://storage.googleapis.com/labelbox-sample...</td>\n",
              "      <td>Sample Raw Text</td>\n",
              "      <td>https://storage.googleapis.com/labelbox-sample...</td>\n",
              "    </tr>\n",
              "    <tr>\n",
              "      <th>5</th>\n",
              "      <td>qm4W6ktKCGR22n21A3o_0A.jpg</td>\n",
              "      <td>https://labelbox.s3-us-west-2.amazonaws.com/da...</td>\n",
              "      <td>labelpandas-attachments-test-qm4W6ktKCGR22n21A...</td>\n",
              "      <td>https://storage.googleapis.com/labelbox-sample...</td>\n",
              "      <td>https://storage.googleapis.com/labelbox-sample...</td>\n",
              "      <td>https://storage.googleapis.com/labelbox-sample...</td>\n",
              "      <td>Sample Raw Text</td>\n",
              "      <td>https://storage.googleapis.com/labelbox-sample...</td>\n",
              "    </tr>\n",
              "    <tr>\n",
              "      <th>6</th>\n",
              "      <td>pmkRRbZGfIYr-2YN8gwK2Q.jpg</td>\n",
              "      <td>https://labelbox.s3-us-west-2.amazonaws.com/da...</td>\n",
              "      <td>labelpandas-attachments-test-pmkRRbZGfIYr-2YN8...</td>\n",
              "      <td>https://storage.googleapis.com/labelbox-sample...</td>\n",
              "      <td>https://storage.googleapis.com/labelbox-sample...</td>\n",
              "      <td>https://storage.googleapis.com/labelbox-sample...</td>\n",
              "      <td>Sample Raw Text</td>\n",
              "      <td>https://storage.googleapis.com/labelbox-sample...</td>\n",
              "    </tr>\n",
              "    <tr>\n",
              "      <th>7</th>\n",
              "      <td>2J23mch-V41VdHYVvedGWw.jpg</td>\n",
              "      <td>https://labelbox.s3-us-west-2.amazonaws.com/da...</td>\n",
              "      <td>labelpandas-attachments-test-2J23mch-V41VdHYVv...</td>\n",
              "      <td>https://storage.googleapis.com/labelbox-sample...</td>\n",
              "      <td>https://storage.googleapis.com/labelbox-sample...</td>\n",
              "      <td>https://storage.googleapis.com/labelbox-sample...</td>\n",
              "      <td>Sample Raw Text</td>\n",
              "      <td>https://storage.googleapis.com/labelbox-sample...</td>\n",
              "    </tr>\n",
              "    <tr>\n",
              "      <th>8</th>\n",
              "      <td>9GvpiX9gvFLLpzGN5CCcqA.jpg</td>\n",
              "      <td>https://labelbox.s3-us-west-2.amazonaws.com/da...</td>\n",
              "      <td>labelpandas-attachments-test-9GvpiX9gvFLLpzGN5...</td>\n",
              "      <td>https://storage.googleapis.com/labelbox-sample...</td>\n",
              "      <td>https://storage.googleapis.com/labelbox-sample...</td>\n",
              "      <td>https://storage.googleapis.com/labelbox-sample...</td>\n",
              "      <td>Sample Raw Text</td>\n",
              "      <td>https://storage.googleapis.com/labelbox-sample...</td>\n",
              "    </tr>\n",
              "    <tr>\n",
              "      <th>9</th>\n",
              "      <td>-nvTzJ-2am0mxQPqnZzZBA.jpg</td>\n",
              "      <td>https://labelbox.s3-us-west-2.amazonaws.com/da...</td>\n",
              "      <td>labelpandas-attachments-test--nvTzJ-2am0mxQPqn...</td>\n",
              "      <td>https://storage.googleapis.com/labelbox-sample...</td>\n",
              "      <td>https://storage.googleapis.com/labelbox-sample...</td>\n",
              "      <td>https://storage.googleapis.com/labelbox-sample...</td>\n",
              "      <td>Sample Raw Text</td>\n",
              "      <td>https://storage.googleapis.com/labelbox-sample...</td>\n",
              "    </tr>\n",
              "  </tbody>\n",
              "</table>\n",
              "</div>\n",
              "      <button class=\"colab-df-convert\" onclick=\"convertToInteractive('df-de864794-d1e8-4f63-a087-bbe53517a4f7')\"\n",
              "              title=\"Convert this dataframe to an interactive table.\"\n",
              "              style=\"display:none;\">\n",
              "        \n",
              "  <svg xmlns=\"http://www.w3.org/2000/svg\" height=\"24px\"viewBox=\"0 0 24 24\"\n",
              "       width=\"24px\">\n",
              "    <path d=\"M0 0h24v24H0V0z\" fill=\"none\"/>\n",
              "    <path d=\"M18.56 5.44l.94 2.06.94-2.06 2.06-.94-2.06-.94-.94-2.06-.94 2.06-2.06.94zm-11 1L8.5 8.5l.94-2.06 2.06-.94-2.06-.94L8.5 2.5l-.94 2.06-2.06.94zm10 10l.94 2.06.94-2.06 2.06-.94-2.06-.94-.94-2.06-.94 2.06-2.06.94z\"/><path d=\"M17.41 7.96l-1.37-1.37c-.4-.4-.92-.59-1.43-.59-.52 0-1.04.2-1.43.59L10.3 9.45l-7.72 7.72c-.78.78-.78 2.05 0 2.83L4 21.41c.39.39.9.59 1.41.59.51 0 1.02-.2 1.41-.59l7.78-7.78 2.81-2.81c.8-.78.8-2.07 0-2.86zM5.41 20L4 18.59l7.72-7.72 1.47 1.35L5.41 20z\"/>\n",
              "  </svg>\n",
              "      </button>\n",
              "      \n",
              "  <style>\n",
              "    .colab-df-container {\n",
              "      display:flex;\n",
              "      flex-wrap:wrap;\n",
              "      gap: 12px;\n",
              "    }\n",
              "\n",
              "    .colab-df-convert {\n",
              "      background-color: #E8F0FE;\n",
              "      border: none;\n",
              "      border-radius: 50%;\n",
              "      cursor: pointer;\n",
              "      display: none;\n",
              "      fill: #1967D2;\n",
              "      height: 32px;\n",
              "      padding: 0 0 0 0;\n",
              "      width: 32px;\n",
              "    }\n",
              "\n",
              "    .colab-df-convert:hover {\n",
              "      background-color: #E2EBFA;\n",
              "      box-shadow: 0px 1px 2px rgba(60, 64, 67, 0.3), 0px 1px 3px 1px rgba(60, 64, 67, 0.15);\n",
              "      fill: #174EA6;\n",
              "    }\n",
              "\n",
              "    [theme=dark] .colab-df-convert {\n",
              "      background-color: #3B4455;\n",
              "      fill: #D2E3FC;\n",
              "    }\n",
              "\n",
              "    [theme=dark] .colab-df-convert:hover {\n",
              "      background-color: #434B5C;\n",
              "      box-shadow: 0px 1px 3px 1px rgba(0, 0, 0, 0.15);\n",
              "      filter: drop-shadow(0px 1px 2px rgba(0, 0, 0, 0.3));\n",
              "      fill: #FFFFFF;\n",
              "    }\n",
              "  </style>\n",
              "\n",
              "      <script>\n",
              "        const buttonEl =\n",
              "          document.querySelector('#df-de864794-d1e8-4f63-a087-bbe53517a4f7 button.colab-df-convert');\n",
              "        buttonEl.style.display =\n",
              "          google.colab.kernel.accessAllowed ? 'block' : 'none';\n",
              "\n",
              "        async function convertToInteractive(key) {\n",
              "          const element = document.querySelector('#df-de864794-d1e8-4f63-a087-bbe53517a4f7');\n",
              "          const dataTable =\n",
              "            await google.colab.kernel.invokeFunction('convertToInteractive',\n",
              "                                                     [key], {});\n",
              "          if (!dataTable) return;\n",
              "\n",
              "          const docLinkHtml = 'Like what you see? Visit the ' +\n",
              "            '<a target=\"_blank\" href=https://colab.research.google.com/notebooks/data_table.ipynb>data table notebook</a>'\n",
              "            + ' to learn more about interactive tables.';\n",
              "          element.innerHTML = '';\n",
              "          dataTable['output_type'] = 'display_data';\n",
              "          await google.colab.output.renderOutput(dataTable, element);\n",
              "          const docLink = document.createElement('div');\n",
              "          docLink.innerHTML = docLinkHtml;\n",
              "          element.appendChild(docLink);\n",
              "        }\n",
              "      </script>\n",
              "    </div>\n",
              "  </div>\n",
              "  "
            ]
          },
          "metadata": {},
          "execution_count": 9
        }
      ]
    },
    {
      "cell_type": "markdown",
      "source": [
        "Create a Dataset (for demonstration purposes only)"
      ],
      "metadata": {
        "id": "4hM3xvVm_x7w"
      }
    },
    {
      "cell_type": "code",
      "source": [
        "client = lp.Client(lb_api_key=api_key)"
      ],
      "metadata": {
        "id": "wKenzu7R_0iD"
      },
      "execution_count": null,
      "outputs": []
    },
    {
      "cell_type": "code",
      "source": [
        "datset_id = client.lb_client.create_dataset(name=\"LabelPandas-attachments\").uid"
      ],
      "metadata": {
        "id": "6xY4IfcS_2Vh"
      },
      "execution_count": null,
      "outputs": []
    },
    {
      "cell_type": "markdown",
      "source": [
        "Upload to Labelbox"
      ],
      "metadata": {
        "id": "3WTZj-UJ4T-m"
      }
    },
    {
      "cell_type": "code",
      "source": [
        "results = client.create_data_rows_from_table(\n",
        "    table = df,\n",
        "    dataset_id = datset_id,\n",
        "    skip_duplicates = False, # If True, will skip data rows where a global key is already in use,\n",
        "    verbose = True, # If True, prints information about code execution\n",
        ")"
      ],
      "metadata": {
        "colab": {
          "base_uri": "https://localhost:8080/"
        },
        "id": "imPBhZDh_KeH",
        "outputId": "3f791952-16cf-4813-d275-555717a864b8"
      },
      "execution_count": null,
      "outputs": [
        {
          "output_type": "stream",
          "name": "stdout",
          "text": [
            "Creating upload list - 10 rows in Pandas DataFrame\n",
            "Beginning data row upload for dataset ID cle91kpv60p1n07uv3y1r2y3l: uploading 10 data rows\n",
            "Batch #1: 10 data rows\n",
            "Success: Upload batch number 1 successful\n",
            "Upload complete - all data rows uploaded\n"
          ]
        }
      ]
    }
  ]
}
