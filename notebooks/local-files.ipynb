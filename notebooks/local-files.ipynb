{
  "nbformat": 4,
  "nbformat_minor": 0,
  "metadata": {
    "colab": {
      "provenance": []
    },
    "kernelspec": {
      "name": "python3",
      "display_name": "Python 3"
    },
    "language_info": {
      "name": "python"
    }
  },
  "cells": [
    {
      "cell_type": "markdown",
      "source": [
        "<td>\n",
        "   <a target=\"_blank\" href=\"https://labelbox.com\" ><img src=\"https://labelbox.com/blog/content/images/2021/02/logo-v4.svg\" width=256/></a>\n",
        "</td>"
      ],
      "metadata": {
        "id": "z-Oj3xf99mKw"
      }
    },
    {
      "cell_type": "markdown",
      "source": [
        "<td>\n",
        "<a href=\"https://colab.research.google.com/drive/1oMEenCfGl19MtRfHdCNdsjGxwDqlo085\" target=\"_blank\"><img\n",
        "src=\"https://colab.research.google.com/assets/colab-badge.svg\" alt=\"Open In Colab\"></a>\n",
        "</td>\n",
        "\n",
        "<td>\n",
        "<a href=\"https://github.com/Labelbox/labelpandas/blob/main/notebooks/local-files.ipynb\" target=\"_blank\"><img\n",
        "src=\"https://img.shields.io/badge/GitHub-100000?logo=github&logoColor=white\" alt=\"GitHub\"></a>\n",
        "</td>"
      ],
      "metadata": {
        "id": "HDAJUJeo9oi2"
      }
    },
    {
      "cell_type": "markdown",
      "source": [
        "# _**Creating Data Rows from Row Data Local Files with LabelPandas**_"
      ],
      "metadata": {
        "id": "5AYNC8v29z1Q"
      }
    },
    {
      "cell_type": "markdown",
      "source": [
        "## _**Documentation**_"
      ],
      "metadata": {
        "id": "5cbHfXSZ-mOI"
      }
    },
    {
      "cell_type": "markdown",
      "source": [
        "**Requirements:**\n",
        "\n",
        "- A `row_data` column - This column must be URLs that point to the asset to-be-uploaded\n",
        "  - This notebook will show how to create URLs for local files\n",
        "\n",
        "- Either a `dataset_id` column or an input argument for `dataset_id`\n",
        "  - If uploading to multiple datasets, provide a `dataset_id` column \n",
        "  - If uploading to one dataset, provide a `dataset_id` input argument\n",
        "    - _This can still be a column if it's already in your CSV file_\n",
        "\n",
        "**Recommended:**\n",
        "- A `global_key` column\n",
        "  - This column contains unique identifiers for your data rows\n",
        "  - If none is provided, will default to your `row_data` column\n",
        "- An `external_id` column\n",
        "  - This column contains non-unique identifiers for your data rows\n",
        "  - If none is provided, will default to your `global_key` column  "
      ],
      "metadata": {
        "id": "cwEpHUby952F"
      }
    },
    {
      "cell_type": "markdown",
      "source": [
        "## Code"
      ],
      "metadata": {
        "id": "c_fVJPX393rp"
      }
    },
    {
      "cell_type": "markdown",
      "source": [
        "Install LabelPandas and Labelbox"
      ],
      "metadata": {
        "id": "x5VXUdFE--XI"
      }
    },
    {
      "cell_type": "code",
      "execution_count": null,
      "metadata": {
        "id": "LOZffjDK3cHG",
        "colab": {
          "base_uri": "https://localhost:8080/"
        },
        "outputId": "ece8dc48-9b56-4621-9b1b-378c8610756e"
      },
      "outputs": [
        {
          "output_type": "stream",
          "name": "stdout",
          "text": [
            "\u001b[?25l     \u001b[90m━━━━━━━━━━━━━━━━━━━━━━━━━━━━━━━━━━━━━━━━\u001b[0m \u001b[32m0.0/187.7 KB\u001b[0m \u001b[31m?\u001b[0m eta \u001b[36m-:--:--\u001b[0m\r\u001b[2K     \u001b[91m━━━━━━━━━━━━━━━━━━━━━━━━━━━━━━━━━━\u001b[0m\u001b[90m╺\u001b[0m\u001b[90m━━━━\u001b[0m \u001b[32m163.8/187.7 KB\u001b[0m \u001b[31m4.5 MB/s\u001b[0m eta \u001b[36m0:00:01\u001b[0m\r\u001b[2K     \u001b[90m━━━━━━━━━━━━━━━━━━━━━━━━━━━━━━━━━━━━━━━\u001b[0m \u001b[32m187.7/187.7 KB\u001b[0m \u001b[31m3.1 MB/s\u001b[0m eta \u001b[36m0:00:00\u001b[0m\n",
            "\u001b[?25h"
          ]
        }
      ],
      "source": [
        "## Install LabelPandas\n",
        "!pip install labelpandas --upgrade -q"
      ]
    },
    {
      "cell_type": "code",
      "source": [
        "import labelpandas as lp\n",
        "import pandas as pd"
      ],
      "metadata": {
        "id": "sRozyJUX9YVy"
      },
      "execution_count": null,
      "outputs": []
    },
    {
      "cell_type": "markdown",
      "source": [
        "Define runtime variables"
      ],
      "metadata": {
        "id": "Zuckb5Bf_LLw"
      }
    },
    {
      "cell_type": "code",
      "source": [
        "csv_path = \"https://raw.githubusercontent.com/Labelbox/labelpandas/main/datasets/local-files.csv\" # Path to your CSV file\n",
        "api_key = \"\" # Labelbox API Key"
      ],
      "metadata": {
        "id": "QwZysJDY_Mvf"
      },
      "execution_count": null,
      "outputs": []
    },
    {
      "cell_type": "markdown",
      "source": [
        "Load a CSV (and for this demo, local files)"
      ],
      "metadata": {
        "id": "_qMWUpby_Bb6"
      }
    },
    {
      "cell_type": "code",
      "source": [
        "!git clone https://github.com/Labelbox/labelpandas -q # Get images from LabelPandas repo\n",
        "\n",
        "df = pd.read_csv(csv_path)\n",
        "df.head(10)"
      ],
      "metadata": {
        "colab": {
          "base_uri": "https://localhost:8080/",
          "height": 363
        },
        "id": "fQYQZ-eR9fWW",
        "outputId": "f62ae599-20dd-44c8-8aa3-16020acfadd4"
      },
      "execution_count": null,
      "outputs": [
        {
          "output_type": "execute_result",
          "data": {
            "text/plain": [
              "  external_id                   global_key                           file_path\n",
              "0       6.jpg   labelpandas-test-art-6.jpg   labelpandas/datasets/images/6.jpg\n",
              "1      10.jpg  labelpandas-test-art-10.jpg  labelpandas/datasets/images/10.jpg\n",
              "2       2.jpg   labelpandas-test-art-2.jpg   labelpandas/datasets/images/2.jpg\n",
              "3       3.jpg   labelpandas-test-art-3.jpg   labelpandas/datasets/images/3.jpg\n",
              "4       8.jpg   labelpandas-test-art-8.jpg   labelpandas/datasets/images/8.jpg\n",
              "5       9.jpg   labelpandas-test-art-9.jpg   labelpandas/datasets/images/9.jpg\n",
              "6       4.jpg   labelpandas-test-art-4.jpg   labelpandas/datasets/images/4.jpg\n",
              "7       1.jpg   labelpandas-test-art-1.jpg   labelpandas/datasets/images/1.jpg\n",
              "8       5.jpg   labelpandas-test-art-5.jpg   labelpandas/datasets/images/5.jpg\n",
              "9       7.jpg   labelpandas-test-art-7.jpg   labelpandas/datasets/images/7.jpg"
            ],
            "text/html": [
              "\n",
              "  <div id=\"df-8112221e-7025-47d2-87cf-4c68dbc653cf\">\n",
              "    <div class=\"colab-df-container\">\n",
              "      <div>\n",
              "<style scoped>\n",
              "    .dataframe tbody tr th:only-of-type {\n",
              "        vertical-align: middle;\n",
              "    }\n",
              "\n",
              "    .dataframe tbody tr th {\n",
              "        vertical-align: top;\n",
              "    }\n",
              "\n",
              "    .dataframe thead th {\n",
              "        text-align: right;\n",
              "    }\n",
              "</style>\n",
              "<table border=\"1\" class=\"dataframe\">\n",
              "  <thead>\n",
              "    <tr style=\"text-align: right;\">\n",
              "      <th></th>\n",
              "      <th>external_id</th>\n",
              "      <th>global_key</th>\n",
              "      <th>file_path</th>\n",
              "    </tr>\n",
              "  </thead>\n",
              "  <tbody>\n",
              "    <tr>\n",
              "      <th>0</th>\n",
              "      <td>6.jpg</td>\n",
              "      <td>labelpandas-test-art-6.jpg</td>\n",
              "      <td>labelpandas/datasets/images/6.jpg</td>\n",
              "    </tr>\n",
              "    <tr>\n",
              "      <th>1</th>\n",
              "      <td>10.jpg</td>\n",
              "      <td>labelpandas-test-art-10.jpg</td>\n",
              "      <td>labelpandas/datasets/images/10.jpg</td>\n",
              "    </tr>\n",
              "    <tr>\n",
              "      <th>2</th>\n",
              "      <td>2.jpg</td>\n",
              "      <td>labelpandas-test-art-2.jpg</td>\n",
              "      <td>labelpandas/datasets/images/2.jpg</td>\n",
              "    </tr>\n",
              "    <tr>\n",
              "      <th>3</th>\n",
              "      <td>3.jpg</td>\n",
              "      <td>labelpandas-test-art-3.jpg</td>\n",
              "      <td>labelpandas/datasets/images/3.jpg</td>\n",
              "    </tr>\n",
              "    <tr>\n",
              "      <th>4</th>\n",
              "      <td>8.jpg</td>\n",
              "      <td>labelpandas-test-art-8.jpg</td>\n",
              "      <td>labelpandas/datasets/images/8.jpg</td>\n",
              "    </tr>\n",
              "    <tr>\n",
              "      <th>5</th>\n",
              "      <td>9.jpg</td>\n",
              "      <td>labelpandas-test-art-9.jpg</td>\n",
              "      <td>labelpandas/datasets/images/9.jpg</td>\n",
              "    </tr>\n",
              "    <tr>\n",
              "      <th>6</th>\n",
              "      <td>4.jpg</td>\n",
              "      <td>labelpandas-test-art-4.jpg</td>\n",
              "      <td>labelpandas/datasets/images/4.jpg</td>\n",
              "    </tr>\n",
              "    <tr>\n",
              "      <th>7</th>\n",
              "      <td>1.jpg</td>\n",
              "      <td>labelpandas-test-art-1.jpg</td>\n",
              "      <td>labelpandas/datasets/images/1.jpg</td>\n",
              "    </tr>\n",
              "    <tr>\n",
              "      <th>8</th>\n",
              "      <td>5.jpg</td>\n",
              "      <td>labelpandas-test-art-5.jpg</td>\n",
              "      <td>labelpandas/datasets/images/5.jpg</td>\n",
              "    </tr>\n",
              "    <tr>\n",
              "      <th>9</th>\n",
              "      <td>7.jpg</td>\n",
              "      <td>labelpandas-test-art-7.jpg</td>\n",
              "      <td>labelpandas/datasets/images/7.jpg</td>\n",
              "    </tr>\n",
              "  </tbody>\n",
              "</table>\n",
              "</div>\n",
              "      <button class=\"colab-df-convert\" onclick=\"convertToInteractive('df-8112221e-7025-47d2-87cf-4c68dbc653cf')\"\n",
              "              title=\"Convert this dataframe to an interactive table.\"\n",
              "              style=\"display:none;\">\n",
              "        \n",
              "  <svg xmlns=\"http://www.w3.org/2000/svg\" height=\"24px\"viewBox=\"0 0 24 24\"\n",
              "       width=\"24px\">\n",
              "    <path d=\"M0 0h24v24H0V0z\" fill=\"none\"/>\n",
              "    <path d=\"M18.56 5.44l.94 2.06.94-2.06 2.06-.94-2.06-.94-.94-2.06-.94 2.06-2.06.94zm-11 1L8.5 8.5l.94-2.06 2.06-.94-2.06-.94L8.5 2.5l-.94 2.06-2.06.94zm10 10l.94 2.06.94-2.06 2.06-.94-2.06-.94-.94-2.06-.94 2.06-2.06.94z\"/><path d=\"M17.41 7.96l-1.37-1.37c-.4-.4-.92-.59-1.43-.59-.52 0-1.04.2-1.43.59L10.3 9.45l-7.72 7.72c-.78.78-.78 2.05 0 2.83L4 21.41c.39.39.9.59 1.41.59.51 0 1.02-.2 1.41-.59l7.78-7.78 2.81-2.81c.8-.78.8-2.07 0-2.86zM5.41 20L4 18.59l7.72-7.72 1.47 1.35L5.41 20z\"/>\n",
              "  </svg>\n",
              "      </button>\n",
              "      \n",
              "  <style>\n",
              "    .colab-df-container {\n",
              "      display:flex;\n",
              "      flex-wrap:wrap;\n",
              "      gap: 12px;\n",
              "    }\n",
              "\n",
              "    .colab-df-convert {\n",
              "      background-color: #E8F0FE;\n",
              "      border: none;\n",
              "      border-radius: 50%;\n",
              "      cursor: pointer;\n",
              "      display: none;\n",
              "      fill: #1967D2;\n",
              "      height: 32px;\n",
              "      padding: 0 0 0 0;\n",
              "      width: 32px;\n",
              "    }\n",
              "\n",
              "    .colab-df-convert:hover {\n",
              "      background-color: #E2EBFA;\n",
              "      box-shadow: 0px 1px 2px rgba(60, 64, 67, 0.3), 0px 1px 3px 1px rgba(60, 64, 67, 0.15);\n",
              "      fill: #174EA6;\n",
              "    }\n",
              "\n",
              "    [theme=dark] .colab-df-convert {\n",
              "      background-color: #3B4455;\n",
              "      fill: #D2E3FC;\n",
              "    }\n",
              "\n",
              "    [theme=dark] .colab-df-convert:hover {\n",
              "      background-color: #434B5C;\n",
              "      box-shadow: 0px 1px 3px 1px rgba(0, 0, 0, 0.15);\n",
              "      filter: drop-shadow(0px 1px 2px rgba(0, 0, 0, 0.3));\n",
              "      fill: #FFFFFF;\n",
              "    }\n",
              "  </style>\n",
              "\n",
              "      <script>\n",
              "        const buttonEl =\n",
              "          document.querySelector('#df-8112221e-7025-47d2-87cf-4c68dbc653cf button.colab-df-convert');\n",
              "        buttonEl.style.display =\n",
              "          google.colab.kernel.accessAllowed ? 'block' : 'none';\n",
              "\n",
              "        async function convertToInteractive(key) {\n",
              "          const element = document.querySelector('#df-8112221e-7025-47d2-87cf-4c68dbc653cf');\n",
              "          const dataTable =\n",
              "            await google.colab.kernel.invokeFunction('convertToInteractive',\n",
              "                                                     [key], {});\n",
              "          if (!dataTable) return;\n",
              "\n",
              "          const docLinkHtml = 'Like what you see? Visit the ' +\n",
              "            '<a target=\"_blank\" href=https://colab.research.google.com/notebooks/data_table.ipynb>data table notebook</a>'\n",
              "            + ' to learn more about interactive tables.';\n",
              "          element.innerHTML = '';\n",
              "          dataTable['output_type'] = 'display_data';\n",
              "          await google.colab.output.renderOutput(dataTable, element);\n",
              "          const docLink = document.createElement('div');\n",
              "          docLink.innerHTML = docLinkHtml;\n",
              "          element.appendChild(docLink);\n",
              "        }\n",
              "      </script>\n",
              "    </div>\n",
              "  </div>\n",
              "  "
            ]
          },
          "metadata": {},
          "execution_count": 6
        }
      ]
    },
    {
      "cell_type": "markdown",
      "source": [
        "Create a Dataset (for demonstration purposes only)"
      ],
      "metadata": {
        "id": "4hM3xvVm_x7w"
      }
    },
    {
      "cell_type": "code",
      "source": [
        "client = lp.Client(lb_api_key=api_key)"
      ],
      "metadata": {
        "id": "wKenzu7R_0iD"
      },
      "execution_count": null,
      "outputs": []
    },
    {
      "cell_type": "code",
      "source": [
        "datset_id = client.lb_client.create_dataset(name=\"LabelPandas-local-files\").uid"
      ],
      "metadata": {
        "id": "6xY4IfcS_2Vh"
      },
      "execution_count": null,
      "outputs": []
    },
    {
      "cell_type": "markdown",
      "source": [
        "Convert Local Files to Labelbox-ready URLs"
      ],
      "metadata": {
        "id": "n6xsHO6XBN7N"
      }
    },
    {
      "cell_type": "code",
      "source": [
        "df = lp.load_local_files(\n",
        "    client=client,\n",
        "    table=df, \n",
        "    file_path_column=\"file_path\",\n",
        "    verbose=True\n",
        ")\n",
        "df.head(10)"
      ],
      "metadata": {
        "colab": {
          "base_uri": "https://localhost:8080/",
          "height": 417
        },
        "id": "ptTT8ZAYBQTF",
        "outputId": "fa27350d-8573-43fd-a6dc-8da986410bbe"
      },
      "execution_count": null,
      "outputs": [
        {
          "output_type": "stream",
          "name": "stdout",
          "text": [
            "Creating URLs for 10 local files...\n"
          ]
        },
        {
          "output_type": "stream",
          "name": "stderr",
          "text": [
            "100%|██████████| 10/10 [00:09<00:00,  1.11it/s]"
          ]
        },
        {
          "output_type": "stream",
          "name": "stdout",
          "text": [
            "Success - 10 URLs created in `row_data` column\n"
          ]
        },
        {
          "output_type": "stream",
          "name": "stderr",
          "text": [
            "\n"
          ]
        },
        {
          "output_type": "execute_result",
          "data": {
            "text/plain": [
              "  external_id                   global_key  \\\n",
              "0       6.jpg   labelpandas-test-art-6.jpg   \n",
              "1      10.jpg  labelpandas-test-art-10.jpg   \n",
              "2       2.jpg   labelpandas-test-art-2.jpg   \n",
              "3       3.jpg   labelpandas-test-art-3.jpg   \n",
              "4       8.jpg   labelpandas-test-art-8.jpg   \n",
              "5       9.jpg   labelpandas-test-art-9.jpg   \n",
              "6       4.jpg   labelpandas-test-art-4.jpg   \n",
              "7       1.jpg   labelpandas-test-art-1.jpg   \n",
              "8       5.jpg   labelpandas-test-art-5.jpg   \n",
              "9       7.jpg   labelpandas-test-art-7.jpg   \n",
              "\n",
              "                            file_path  \\\n",
              "0   labelpandas/datasets/images/6.jpg   \n",
              "1  labelpandas/datasets/images/10.jpg   \n",
              "2   labelpandas/datasets/images/2.jpg   \n",
              "3   labelpandas/datasets/images/3.jpg   \n",
              "4   labelpandas/datasets/images/8.jpg   \n",
              "5   labelpandas/datasets/images/9.jpg   \n",
              "6   labelpandas/datasets/images/4.jpg   \n",
              "7   labelpandas/datasets/images/1.jpg   \n",
              "8   labelpandas/datasets/images/5.jpg   \n",
              "9   labelpandas/datasets/images/7.jpg   \n",
              "\n",
              "                                            row_data  \n",
              "0  gs://labelbox-193903.appspot.com/cklgtitp0gi50...  \n",
              "1  gs://labelbox-193903.appspot.com/cklgtitp0gi50...  \n",
              "2  gs://labelbox-193903.appspot.com/cklgtitp0gi50...  \n",
              "3  gs://labelbox-193903.appspot.com/cklgtitp0gi50...  \n",
              "4  gs://labelbox-193903.appspot.com/cklgtitp0gi50...  \n",
              "5  gs://labelbox-193903.appspot.com/cklgtitp0gi50...  \n",
              "6  gs://labelbox-193903.appspot.com/cklgtitp0gi50...  \n",
              "7  gs://labelbox-193903.appspot.com/cklgtitp0gi50...  \n",
              "8  gs://labelbox-193903.appspot.com/cklgtitp0gi50...  \n",
              "9  gs://labelbox-193903.appspot.com/cklgtitp0gi50...  "
            ],
            "text/html": [
              "\n",
              "  <div id=\"df-980a0f05-19db-4521-8637-a2ce212c80ca\">\n",
              "    <div class=\"colab-df-container\">\n",
              "      <div>\n",
              "<style scoped>\n",
              "    .dataframe tbody tr th:only-of-type {\n",
              "        vertical-align: middle;\n",
              "    }\n",
              "\n",
              "    .dataframe tbody tr th {\n",
              "        vertical-align: top;\n",
              "    }\n",
              "\n",
              "    .dataframe thead th {\n",
              "        text-align: right;\n",
              "    }\n",
              "</style>\n",
              "<table border=\"1\" class=\"dataframe\">\n",
              "  <thead>\n",
              "    <tr style=\"text-align: right;\">\n",
              "      <th></th>\n",
              "      <th>external_id</th>\n",
              "      <th>global_key</th>\n",
              "      <th>file_path</th>\n",
              "      <th>row_data</th>\n",
              "    </tr>\n",
              "  </thead>\n",
              "  <tbody>\n",
              "    <tr>\n",
              "      <th>0</th>\n",
              "      <td>6.jpg</td>\n",
              "      <td>labelpandas-test-art-6.jpg</td>\n",
              "      <td>labelpandas/datasets/images/6.jpg</td>\n",
              "      <td>gs://labelbox-193903.appspot.com/cklgtitp0gi50...</td>\n",
              "    </tr>\n",
              "    <tr>\n",
              "      <th>1</th>\n",
              "      <td>10.jpg</td>\n",
              "      <td>labelpandas-test-art-10.jpg</td>\n",
              "      <td>labelpandas/datasets/images/10.jpg</td>\n",
              "      <td>gs://labelbox-193903.appspot.com/cklgtitp0gi50...</td>\n",
              "    </tr>\n",
              "    <tr>\n",
              "      <th>2</th>\n",
              "      <td>2.jpg</td>\n",
              "      <td>labelpandas-test-art-2.jpg</td>\n",
              "      <td>labelpandas/datasets/images/2.jpg</td>\n",
              "      <td>gs://labelbox-193903.appspot.com/cklgtitp0gi50...</td>\n",
              "    </tr>\n",
              "    <tr>\n",
              "      <th>3</th>\n",
              "      <td>3.jpg</td>\n",
              "      <td>labelpandas-test-art-3.jpg</td>\n",
              "      <td>labelpandas/datasets/images/3.jpg</td>\n",
              "      <td>gs://labelbox-193903.appspot.com/cklgtitp0gi50...</td>\n",
              "    </tr>\n",
              "    <tr>\n",
              "      <th>4</th>\n",
              "      <td>8.jpg</td>\n",
              "      <td>labelpandas-test-art-8.jpg</td>\n",
              "      <td>labelpandas/datasets/images/8.jpg</td>\n",
              "      <td>gs://labelbox-193903.appspot.com/cklgtitp0gi50...</td>\n",
              "    </tr>\n",
              "    <tr>\n",
              "      <th>5</th>\n",
              "      <td>9.jpg</td>\n",
              "      <td>labelpandas-test-art-9.jpg</td>\n",
              "      <td>labelpandas/datasets/images/9.jpg</td>\n",
              "      <td>gs://labelbox-193903.appspot.com/cklgtitp0gi50...</td>\n",
              "    </tr>\n",
              "    <tr>\n",
              "      <th>6</th>\n",
              "      <td>4.jpg</td>\n",
              "      <td>labelpandas-test-art-4.jpg</td>\n",
              "      <td>labelpandas/datasets/images/4.jpg</td>\n",
              "      <td>gs://labelbox-193903.appspot.com/cklgtitp0gi50...</td>\n",
              "    </tr>\n",
              "    <tr>\n",
              "      <th>7</th>\n",
              "      <td>1.jpg</td>\n",
              "      <td>labelpandas-test-art-1.jpg</td>\n",
              "      <td>labelpandas/datasets/images/1.jpg</td>\n",
              "      <td>gs://labelbox-193903.appspot.com/cklgtitp0gi50...</td>\n",
              "    </tr>\n",
              "    <tr>\n",
              "      <th>8</th>\n",
              "      <td>5.jpg</td>\n",
              "      <td>labelpandas-test-art-5.jpg</td>\n",
              "      <td>labelpandas/datasets/images/5.jpg</td>\n",
              "      <td>gs://labelbox-193903.appspot.com/cklgtitp0gi50...</td>\n",
              "    </tr>\n",
              "    <tr>\n",
              "      <th>9</th>\n",
              "      <td>7.jpg</td>\n",
              "      <td>labelpandas-test-art-7.jpg</td>\n",
              "      <td>labelpandas/datasets/images/7.jpg</td>\n",
              "      <td>gs://labelbox-193903.appspot.com/cklgtitp0gi50...</td>\n",
              "    </tr>\n",
              "  </tbody>\n",
              "</table>\n",
              "</div>\n",
              "      <button class=\"colab-df-convert\" onclick=\"convertToInteractive('df-980a0f05-19db-4521-8637-a2ce212c80ca')\"\n",
              "              title=\"Convert this dataframe to an interactive table.\"\n",
              "              style=\"display:none;\">\n",
              "        \n",
              "  <svg xmlns=\"http://www.w3.org/2000/svg\" height=\"24px\"viewBox=\"0 0 24 24\"\n",
              "       width=\"24px\">\n",
              "    <path d=\"M0 0h24v24H0V0z\" fill=\"none\"/>\n",
              "    <path d=\"M18.56 5.44l.94 2.06.94-2.06 2.06-.94-2.06-.94-.94-2.06-.94 2.06-2.06.94zm-11 1L8.5 8.5l.94-2.06 2.06-.94-2.06-.94L8.5 2.5l-.94 2.06-2.06.94zm10 10l.94 2.06.94-2.06 2.06-.94-2.06-.94-.94-2.06-.94 2.06-2.06.94z\"/><path d=\"M17.41 7.96l-1.37-1.37c-.4-.4-.92-.59-1.43-.59-.52 0-1.04.2-1.43.59L10.3 9.45l-7.72 7.72c-.78.78-.78 2.05 0 2.83L4 21.41c.39.39.9.59 1.41.59.51 0 1.02-.2 1.41-.59l7.78-7.78 2.81-2.81c.8-.78.8-2.07 0-2.86zM5.41 20L4 18.59l7.72-7.72 1.47 1.35L5.41 20z\"/>\n",
              "  </svg>\n",
              "      </button>\n",
              "      \n",
              "  <style>\n",
              "    .colab-df-container {\n",
              "      display:flex;\n",
              "      flex-wrap:wrap;\n",
              "      gap: 12px;\n",
              "    }\n",
              "\n",
              "    .colab-df-convert {\n",
              "      background-color: #E8F0FE;\n",
              "      border: none;\n",
              "      border-radius: 50%;\n",
              "      cursor: pointer;\n",
              "      display: none;\n",
              "      fill: #1967D2;\n",
              "      height: 32px;\n",
              "      padding: 0 0 0 0;\n",
              "      width: 32px;\n",
              "    }\n",
              "\n",
              "    .colab-df-convert:hover {\n",
              "      background-color: #E2EBFA;\n",
              "      box-shadow: 0px 1px 2px rgba(60, 64, 67, 0.3), 0px 1px 3px 1px rgba(60, 64, 67, 0.15);\n",
              "      fill: #174EA6;\n",
              "    }\n",
              "\n",
              "    [theme=dark] .colab-df-convert {\n",
              "      background-color: #3B4455;\n",
              "      fill: #D2E3FC;\n",
              "    }\n",
              "\n",
              "    [theme=dark] .colab-df-convert:hover {\n",
              "      background-color: #434B5C;\n",
              "      box-shadow: 0px 1px 3px 1px rgba(0, 0, 0, 0.15);\n",
              "      filter: drop-shadow(0px 1px 2px rgba(0, 0, 0, 0.3));\n",
              "      fill: #FFFFFF;\n",
              "    }\n",
              "  </style>\n",
              "\n",
              "      <script>\n",
              "        const buttonEl =\n",
              "          document.querySelector('#df-980a0f05-19db-4521-8637-a2ce212c80ca button.colab-df-convert');\n",
              "        buttonEl.style.display =\n",
              "          google.colab.kernel.accessAllowed ? 'block' : 'none';\n",
              "\n",
              "        async function convertToInteractive(key) {\n",
              "          const element = document.querySelector('#df-980a0f05-19db-4521-8637-a2ce212c80ca');\n",
              "          const dataTable =\n",
              "            await google.colab.kernel.invokeFunction('convertToInteractive',\n",
              "                                                     [key], {});\n",
              "          if (!dataTable) return;\n",
              "\n",
              "          const docLinkHtml = 'Like what you see? Visit the ' +\n",
              "            '<a target=\"_blank\" href=https://colab.research.google.com/notebooks/data_table.ipynb>data table notebook</a>'\n",
              "            + ' to learn more about interactive tables.';\n",
              "          element.innerHTML = '';\n",
              "          dataTable['output_type'] = 'display_data';\n",
              "          await google.colab.output.renderOutput(dataTable, element);\n",
              "          const docLink = document.createElement('div');\n",
              "          docLink.innerHTML = docLinkHtml;\n",
              "          element.appendChild(docLink);\n",
              "        }\n",
              "      </script>\n",
              "    </div>\n",
              "  </div>\n",
              "  "
            ]
          },
          "metadata": {},
          "execution_count": 9
        }
      ]
    },
    {
      "cell_type": "markdown",
      "source": [
        "Upload to Labelbox"
      ],
      "metadata": {
        "id": "3WTZj-UJ4T-m"
      }
    },
    {
      "cell_type": "code",
      "source": [
        "results = client.create_data_rows_from_table(\n",
        "    table = df,\n",
        "    dataset_id = datset_id,\n",
        "    skip_duplicates = False, # If True, will skip data rows where a global key is already in use,\n",
        "    verbose = True, # If True, prints information about code execution\n",
        ")"
      ],
      "metadata": {
        "colab": {
          "base_uri": "https://localhost:8080/"
        },
        "id": "imPBhZDh_KeH",
        "outputId": "98b4e08c-46fa-4f5a-9f5f-5b3397a63107"
      },
      "execution_count": null,
      "outputs": [
        {
          "output_type": "stream",
          "name": "stdout",
          "text": [
            "Creating upload list - 10 rows in Pandas DataFrame\n",
            "Beginning data row upload for dataset ID cle3r5m6q4n1r070c9rl3gxwj: uploading 10 data rows\n",
            "Batch #1: 10 data rows\n",
            "Success: Upload batch number 1 successful\n",
            "Upload complete - all data rows uploaded\n"
          ]
        }
      ]
    }
  ]
}
