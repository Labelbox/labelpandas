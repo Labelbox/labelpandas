{
  "nbformat": 4,
  "nbformat_minor": 0,
  "metadata": {
    "colab": {
      "provenance": []
    },
    "kernelspec": {
      "name": "python3",
      "display_name": "Python 3"
    },
    "language_info": {
      "name": "python"
    }
  },
  "cells": [
    {
      "cell_type": "markdown",
      "source": [
        "<td>\n",
        "   <a target=\"_blank\" href=\"https://labelbox.com\" ><img src=\"https://labelbox.com/blog/content/images/2021/02/logo-v4.svg\" width=256/></a>\n",
        "</td>"
      ],
      "metadata": {
        "id": "fl1NKewvO69y"
      }
    },
    {
      "cell_type": "markdown",
      "source": [
        "<td>\n",
        "<a href=\"https://colab.research.google.com/drive/135zZ3ardJKzZq4nD_ynpwdgwGtpARhht\" target=\"_blank\"><img\n",
        "src=\"https://colab.research.google.com/assets/colab-badge.svg\" alt=\"Open In Colab\"></a>\n",
        "</td>\n",
        "\n",
        "<td>\n",
        "<a href=\"https://github.com/Labelbox/labelpandas/blob/main/notebooks/export.ipynb\" target=\"_blank\"><img\n",
        "src=\"https://img.shields.io/badge/GitHub-100000?logo=github&logoColor=white\" alt=\"GitHub\"></a>\n",
        "</td>"
      ],
      "metadata": {
        "id": "U8IP945PO8Ji"
      }
    },
    {
      "cell_type": "markdown",
      "source": [
        "# _**Exporting Data Rows with Metadata and Annotations with LabelPandas**_"
      ],
      "metadata": {
        "id": "6M50O0uzPcfu"
      }
    },
    {
      "cell_type": "markdown",
      "source": [
        "Install LabelPandas"
      ],
      "metadata": {
        "id": "pGxao41PPmYE"
      }
    },
    {
      "cell_type": "code",
      "source": [
        "!pip install labelpandas -q"
      ],
      "metadata": {
        "colab": {
          "base_uri": "https://localhost:8080/"
        },
        "id": "srRlx0drq8Ic",
        "outputId": "1c063fba-3b77-4338-e339-82e32a8e1eb7"
      },
      "execution_count": null,
      "outputs": [
        {
          "output_type": "stream",
          "name": "stdout",
          "text": [
            "\u001b[?25l     \u001b[90m━━━━━━━━━━━━━━━━━━━━━━━━━━━━━━━━━━━━━━━━\u001b[0m \u001b[32m0.0/189.2 KB\u001b[0m \u001b[31m?\u001b[0m eta \u001b[36m-:--:--\u001b[0m\r\u001b[2K     \u001b[90m━━━━━━━━━━━━━━━━━━━━━━━━━━━━━━━━━━━━━━━\u001b[0m \u001b[32m189.2/189.2 KB\u001b[0m \u001b[31m7.1 MB/s\u001b[0m eta \u001b[36m0:00:00\u001b[0m\n",
            "\u001b[?25h  Preparing metadata (setup.py) ... \u001b[?25l\u001b[?25hdone\n",
            "\u001b[2K     \u001b[90m━━━━━━━━━━━━━━━━━━━━━━━━━━━━━━━━━━━━━━━━\u001b[0m \u001b[32m7.8/7.8 MB\u001b[0m \u001b[31m35.1 MB/s\u001b[0m eta \u001b[36m0:00:00\u001b[0m\n",
            "\u001b[?25h  Building wheel for pygeotile (setup.py) ... \u001b[?25l\u001b[?25hdone\n"
          ]
        }
      ]
    },
    {
      "cell_type": "code",
      "source": [
        "import labelpandas as lp\n",
        "import labelbox as lb"
      ],
      "metadata": {
        "id": "SWhTrk63rLwI"
      },
      "execution_count": null,
      "outputs": []
    },
    {
      "cell_type": "markdown",
      "source": [
        "Provide a Labelbox API Key and a Labelbox Project ID"
      ],
      "metadata": {
        "id": "4rmlh7RQPvsc"
      }
    },
    {
      "cell_type": "code",
      "source": [
        "api_key = \"\" # Labelbox API key\n",
        "project_id = \"\" # Labelbox project ID"
      ],
      "metadata": {
        "id": "kOFxMEiUrHG0"
      },
      "execution_count": null,
      "outputs": []
    },
    {
      "cell_type": "markdown",
      "source": [
        "Initiate LabelPandas Client"
      ],
      "metadata": {
        "id": "tEY6-naRP2WP"
      }
    },
    {
      "cell_type": "code",
      "source": [
        "client = lp.Client(api_key)"
      ],
      "metadata": {
        "id": "QtylrtR0O5lc"
      },
      "execution_count": null,
      "outputs": []
    },
    {
      "cell_type": "markdown",
      "source": [
        "Export labels (and metadata), create a Pandas DataFrame"
      ],
      "metadata": {
        "id": "WznpAgJYP4ng"
      }
    },
    {
      "cell_type": "code",
      "source": [
        "df = client.export_to_table(\n",
        "    project=project_id, \n",
        "    include_performance=True, \n",
        "    include_agreement=True, \n",
        "    include_metadata=True, \n",
        "    mask_method=\"png\",\n",
        "    verbose=True\n",
        ")"
      ],
      "metadata": {
        "colab": {
          "base_uri": "https://localhost:8080/"
        },
        "id": "kUHCqmf6v6et",
        "outputId": "a54fe230-48ab-4f4d-b4e1-7c0eb63e1e76"
      },
      "execution_count": null,
      "outputs": [
        {
          "output_type": "stream",
          "name": "stdout",
          "text": [
            "Exporting labels from Labelbox for project with ID cle95kuo40u2q07wugu1s0khg\n",
            "Export complete: 3 labels exported\n",
            "Exporting metadata from Labelbox for 3 data row IDs\n",
            "Metadata export complete\n",
            "Flattening labels...\n",
            "Labels flattened\n",
            "Success: DataFrame generated\n"
          ]
        }
      ]
    },
    {
      "cell_type": "markdown",
      "source": [
        "View your Pandas DataFrame"
      ],
      "metadata": {
        "id": "8FP0J3ZfQGbp"
      }
    },
    {
      "cell_type": "code",
      "source": [
        "df.head()"
      ],
      "metadata": {
        "id": "MvV_WU9xQIav"
      },
      "execution_count": null,
      "outputs": []
    },
    {
      "cell_type": "markdown",
      "source": [
        "Save the Pandas DataFrame as a CSV"
      ],
      "metadata": {
        "id": "u0KKX1lOP8q5"
      }
    },
    {
      "cell_type": "code",
      "source": [
        "df.to_csv(f\"{project_id}_export.csv\", index=False)"
      ],
      "metadata": {
        "id": "NmMx_LBhQAS6"
      },
      "execution_count": null,
      "outputs": []
    }
  ]
}
