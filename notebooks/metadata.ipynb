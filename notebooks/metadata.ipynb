{
  "nbformat": 4,
  "nbformat_minor": 0,
  "metadata": {
    "colab": {
      "provenance": []
    },
    "kernelspec": {
      "name": "python3",
      "display_name": "Python 3"
    },
    "language_info": {
      "name": "python"
    }
  },
  "cells": [
    {
      "cell_type": "markdown",
      "source": [
        "<td>\n",
        "   <a target=\"_blank\" href=\"https://labelbox.com\" ><img src=\"https://labelbox.com/blog/content/images/2021/02/logo-v4.svg\" width=256/></a>\n",
        "</td>"
      ],
      "metadata": {
        "id": "1koGqb_DTUlO"
      }
    },
    {
      "cell_type": "markdown",
      "source": [
        "<td>\n",
        "<a href=\"https://colab.research.google.com/drive/1XSaiJlER0cC0yiekCg1eb9CuQw7lPOTL\" target=\"_blank\"><img\n",
        "src=\"https://colab.research.google.com/assets/colab-badge.svg\" alt=\"Open In Colab\"></a>\n",
        "</td>\n",
        "\n",
        "<td>\n",
        "<a href=\"https://github.com/Labelbox/labelpandas/blob/main/notebooks/metadata.ipynb\" target=\"_blank\"><img\n",
        "src=\"https://img.shields.io/badge/GitHub-100000?logo=github&logoColor=white\" alt=\"GitHub\"></a>\n",
        "</td>"
      ],
      "metadata": {
        "id": "jLqs51c0TX51"
      }
    },
    {
      "cell_type": "markdown",
      "source": [
        "# _**Creating Data Rows with Metadata with LabelPandas**_"
      ],
      "metadata": {
        "id": "5EQSFEMXTYNN"
      }
    },
    {
      "cell_type": "markdown",
      "source": [
        "## _**Documentation**_"
      ],
      "metadata": {
        "id": "kE_aBOhjTYRJ"
      }
    },
    {
      "cell_type": "markdown",
      "source": [
        "### **Data Rows**\n",
        "_____________________"
      ],
      "metadata": {
        "id": "bgK_0696TdrB"
      }
    },
    {
      "cell_type": "markdown",
      "source": [
        "**Requirements:**\n",
        "\n",
        "- A `row_data` column - This column must be URLs that point to the asset to-be-uploaded\n",
        "\n",
        "- Either a `dataset_id` column or an input argument for `dataset_id`\n",
        "  - If uploading to multiple datasets, provide a `dataset_id` column \n",
        "  - If uploading to one dataset, provide a `dataset_id` input argument\n",
        "    - _This can still be a column if it's already in your CSV file_\n",
        "\n",
        "**Recommended:**\n",
        "- A `global_key` column\n",
        "  - This column contains unique identifiers for your data rows\n",
        "  - If none is provided, will default to your `row_data` column\n",
        "- An `external_id` column\n",
        "  - This column contains non-unique identifiers for your data rows\n",
        "  - If none is provided, will default to your `global_key` column  \n",
        "\n",
        "**Optional:**\n",
        "- A `project_id` columm or an input argument for `project_id`\n",
        "  - If batching to multiple projects, provide a `project_id` column\n",
        "  - If batching to one project, provide a `project_id` input argument\n",
        "    - _This can still be a column if it's already in your CSV file_"
      ],
      "metadata": {
        "id": "Nzg2mAEJTfYK"
      }
    },
    {
      "cell_type": "markdown",
      "source": [
        "### **Metadata**\n",
        "_____________________"
      ],
      "metadata": {
        "id": "hfMOlB74TYUe"
      }
    },
    {
      "cell_type": "markdown",
      "source": [
        "For metadata, the column name must be \" `metadata` + `divider` + `metadata_type` + `divider` + `metadata_field_name` \"\n",
        "  - Example: `metadata///string///sample_metadata_field_name`\n",
        "  - `metadata_type` must be one of the following:\n",
        "    - `string`, `enum`, `datetime`, `number` \n",
        "  - If the `metadata_field_name` doesn't exist yet in Labelbox, LabelPandas will create it for you\n",
        "\n",
        "\n",
        "The values for metadata fields must correspond with the metadata type per Labelbox docs\n",
        "  - More here:\n",
        "    - [Labelbox definition of metadata](https://docs.labelbox.com/docs/datarow-metadata)\n",
        "    - [Labelbox docs on creating metadata](https://docs.labelbox.com/docs/createmodify-metadata-schema)    "
      ],
      "metadata": {
        "id": "kNdUik9JTiuq"
      }
    },
    {
      "cell_type": "markdown",
      "source": [
        "## _**Code**_"
      ],
      "metadata": {
        "id": "w3Z_AmoXTh9e"
      }
    },
    {
      "cell_type": "markdown",
      "source": [
        "Install LabelPandas"
      ],
      "metadata": {
        "id": "dHvrJ27kTq3z"
      }
    },
    {
      "cell_type": "code",
      "source": [
        "!pip install labelpandas --upgrade -q"
      ],
      "metadata": {
        "colab": {
          "base_uri": "https://localhost:8080/"
        },
        "id": "KqUmeFdPTsXH",
        "outputId": "cf8d8b9d-69f0-4d32-d3ac-88104033b472"
      },
      "execution_count": null,
      "outputs": [
        {
          "output_type": "stream",
          "name": "stdout",
          "text": [
            "\u001b[?25l     \u001b[90m━━━━━━━━━━━━━━━━━━━━━━━━━━━━━━━━━━━━━━━━\u001b[0m \u001b[32m0.0/189.2 KB\u001b[0m \u001b[31m?\u001b[0m eta \u001b[36m-:--:--\u001b[0m\r\u001b[2K     \u001b[91m━━━━━━━━━━━━━━━━━━━━━━━━━━━━━━━━━━━━━\u001b[0m\u001b[91m╸\u001b[0m\u001b[90m━\u001b[0m \u001b[32m184.3/189.2 KB\u001b[0m \u001b[31m5.6 MB/s\u001b[0m eta \u001b[36m0:00:01\u001b[0m\r\u001b[2K     \u001b[90m━━━━━━━━━━━━━━━━━━━━━━━━━━━━━━━━━━━━━━━\u001b[0m \u001b[32m189.2/189.2 KB\u001b[0m \u001b[31m3.3 MB/s\u001b[0m eta \u001b[36m0:00:00\u001b[0m\n",
            "\u001b[?25h"
          ]
        }
      ]
    },
    {
      "cell_type": "code",
      "source": [
        "import labelpandas as lp\n",
        "import pandas as pd"
      ],
      "metadata": {
        "id": "5s8IaalgTtka"
      },
      "execution_count": null,
      "outputs": []
    },
    {
      "cell_type": "code",
      "source": [
        "csv_path = \"https://raw.githubusercontent.com/Labelbox/labelpandas/main/datasets/metadata.csv\" # Path to your CSV file\n",
        "api_key = \"\""
      ],
      "metadata": {
        "id": "-7HKYdZKTYX2"
      },
      "execution_count": null,
      "outputs": []
    },
    {
      "cell_type": "markdown",
      "source": [
        "Load a CSV"
      ],
      "metadata": {
        "id": "WuR1EJwpT23u"
      }
    },
    {
      "cell_type": "code",
      "source": [
        "df = pd.read_csv(csv_path)\n",
        "df.head(10)"
      ],
      "metadata": {
        "colab": {
          "base_uri": "https://localhost:8080/",
          "height": 792
        },
        "id": "ufjX0ldFTYbY",
        "outputId": "4a27aed4-2efb-47e1-cab2-9cc6abbbfdc1"
      },
      "execution_count": null,
      "outputs": [
        {
          "output_type": "execute_result",
          "data": {
            "text/plain": [
              "                  external_id  \\\n",
              "0  Euq7yrfb8tbDFpd-cv_cpg.jpg   \n",
              "1  gCbn5IeZtE92OaUbyl1ZjQ.jpg   \n",
              "2  9Y6-Vl3bwsZFTNxX8gqHYw.jpg   \n",
              "3  1MnLIosQZmXH3T-iU-4mtQ.jpg   \n",
              "4  y_9N4kVjlc_AO3C63k2L9w.jpg   \n",
              "5  qm4W6ktKCGR22n21A3o_0A.jpg   \n",
              "6  pmkRRbZGfIYr-2YN8gwK2Q.jpg   \n",
              "7  2J23mch-V41VdHYVvedGWw.jpg   \n",
              "8  9GvpiX9gvFLLpzGN5CCcqA.jpg   \n",
              "9  -nvTzJ-2am0mxQPqnZzZBA.jpg   \n",
              "\n",
              "                                            row_data  \\\n",
              "0  https://labelbox.s3-us-west-2.amazonaws.com/da...   \n",
              "1  https://labelbox.s3-us-west-2.amazonaws.com/da...   \n",
              "2  https://labelbox.s3-us-west-2.amazonaws.com/da...   \n",
              "3  https://labelbox.s3-us-west-2.amazonaws.com/da...   \n",
              "4  https://labelbox.s3-us-west-2.amazonaws.com/da...   \n",
              "5  https://labelbox.s3-us-west-2.amazonaws.com/da...   \n",
              "6  https://labelbox.s3-us-west-2.amazonaws.com/da...   \n",
              "7  https://labelbox.s3-us-west-2.amazonaws.com/da...   \n",
              "8  https://labelbox.s3-us-west-2.amazonaws.com/da...   \n",
              "9  https://labelbox.s3-us-west-2.amazonaws.com/da...   \n",
              "\n",
              "                                          global_key  \\\n",
              "0  labelpandas-metadata-test-Euq7yrfb8tbDFpd-cv_c...   \n",
              "1  labelpandas-metadata-test-gCbn5IeZtE92OaUbyl1Z...   \n",
              "2  labelpandas-metadata-test-9Y6-Vl3bwsZFTNxX8gqH...   \n",
              "3  labelpandas-metadata-test-1MnLIosQZmXH3T-iU-4m...   \n",
              "4  labelpandas-metadata-test-y_9N4kVjlc_AO3C63k2L...   \n",
              "5  labelpandas-metadata-test-qm4W6ktKCGR22n21A3o_...   \n",
              "6  labelpandas-metadata-test-pmkRRbZGfIYr-2YN8gwK...   \n",
              "7  labelpandas-metadata-test-2J23mch-V41VdHYVvedG...   \n",
              "8  labelpandas-metadata-test-9GvpiX9gvFLLpzGN5CCc...   \n",
              "9  labelpandas-metadata-test--nvTzJ-2am0mxQPqnZzZ...   \n",
              "\n",
              "  metadata///string///LabelPandas-String  \\\n",
              "0                      Raw Text String 0   \n",
              "1                      Raw Text String 1   \n",
              "2                      Raw Text String 2   \n",
              "3                      Raw Text String 3   \n",
              "4                      Raw Text String 4   \n",
              "5                      Raw Text String 5   \n",
              "6                      Raw Text String 6   \n",
              "7                      Raw Text String 7   \n",
              "8                      Raw Text String 8   \n",
              "9                      Raw Text String 9   \n",
              "\n",
              "   metadata///number///LabelPandas-Number metadata///enum///LabelPandas-Enum  \\\n",
              "0                                    5256                                  C   \n",
              "1                                    3999                                  B   \n",
              "2                                     809                                  A   \n",
              "3                                    2673                                  B   \n",
              "4                                    2742                                  B   \n",
              "5                                    3409                                  B   \n",
              "6                                    1467                                  A   \n",
              "7                                    9185                                  C   \n",
              "8                                    6681                                  B   \n",
              "9                                    8508                                  C   \n",
              "\n",
              "  metadata///datetime///LabelPandas-Datetime  \n",
              "0                        03/05/1908 12:13 PM  \n",
              "1                        01/30/1926 11:39 PM  \n",
              "2                        01/23/1974 05:06 AM  \n",
              "3                        09/11/1925 12:09 PM  \n",
              "4                        11/22/1977 01:04 PM  \n",
              "5                        06/28/1960 04:47 AM  \n",
              "6                        07/31/2007 09:26 AM  \n",
              "7                        11/12/1965 03:29 AM  \n",
              "8                        02/04/1986 02:41 PM  \n",
              "9                        03/15/1965 12:38 PM  "
            ],
            "text/html": [
              "\n",
              "  <div id=\"df-2eef163f-7672-46ab-924c-3a6aef6116ae\">\n",
              "    <div class=\"colab-df-container\">\n",
              "      <div>\n",
              "<style scoped>\n",
              "    .dataframe tbody tr th:only-of-type {\n",
              "        vertical-align: middle;\n",
              "    }\n",
              "\n",
              "    .dataframe tbody tr th {\n",
              "        vertical-align: top;\n",
              "    }\n",
              "\n",
              "    .dataframe thead th {\n",
              "        text-align: right;\n",
              "    }\n",
              "</style>\n",
              "<table border=\"1\" class=\"dataframe\">\n",
              "  <thead>\n",
              "    <tr style=\"text-align: right;\">\n",
              "      <th></th>\n",
              "      <th>external_id</th>\n",
              "      <th>row_data</th>\n",
              "      <th>global_key</th>\n",
              "      <th>metadata///string///LabelPandas-String</th>\n",
              "      <th>metadata///number///LabelPandas-Number</th>\n",
              "      <th>metadata///enum///LabelPandas-Enum</th>\n",
              "      <th>metadata///datetime///LabelPandas-Datetime</th>\n",
              "    </tr>\n",
              "  </thead>\n",
              "  <tbody>\n",
              "    <tr>\n",
              "      <th>0</th>\n",
              "      <td>Euq7yrfb8tbDFpd-cv_cpg.jpg</td>\n",
              "      <td>https://labelbox.s3-us-west-2.amazonaws.com/da...</td>\n",
              "      <td>labelpandas-metadata-test-Euq7yrfb8tbDFpd-cv_c...</td>\n",
              "      <td>Raw Text String 0</td>\n",
              "      <td>5256</td>\n",
              "      <td>C</td>\n",
              "      <td>03/05/1908 12:13 PM</td>\n",
              "    </tr>\n",
              "    <tr>\n",
              "      <th>1</th>\n",
              "      <td>gCbn5IeZtE92OaUbyl1ZjQ.jpg</td>\n",
              "      <td>https://labelbox.s3-us-west-2.amazonaws.com/da...</td>\n",
              "      <td>labelpandas-metadata-test-gCbn5IeZtE92OaUbyl1Z...</td>\n",
              "      <td>Raw Text String 1</td>\n",
              "      <td>3999</td>\n",
              "      <td>B</td>\n",
              "      <td>01/30/1926 11:39 PM</td>\n",
              "    </tr>\n",
              "    <tr>\n",
              "      <th>2</th>\n",
              "      <td>9Y6-Vl3bwsZFTNxX8gqHYw.jpg</td>\n",
              "      <td>https://labelbox.s3-us-west-2.amazonaws.com/da...</td>\n",
              "      <td>labelpandas-metadata-test-9Y6-Vl3bwsZFTNxX8gqH...</td>\n",
              "      <td>Raw Text String 2</td>\n",
              "      <td>809</td>\n",
              "      <td>A</td>\n",
              "      <td>01/23/1974 05:06 AM</td>\n",
              "    </tr>\n",
              "    <tr>\n",
              "      <th>3</th>\n",
              "      <td>1MnLIosQZmXH3T-iU-4mtQ.jpg</td>\n",
              "      <td>https://labelbox.s3-us-west-2.amazonaws.com/da...</td>\n",
              "      <td>labelpandas-metadata-test-1MnLIosQZmXH3T-iU-4m...</td>\n",
              "      <td>Raw Text String 3</td>\n",
              "      <td>2673</td>\n",
              "      <td>B</td>\n",
              "      <td>09/11/1925 12:09 PM</td>\n",
              "    </tr>\n",
              "    <tr>\n",
              "      <th>4</th>\n",
              "      <td>y_9N4kVjlc_AO3C63k2L9w.jpg</td>\n",
              "      <td>https://labelbox.s3-us-west-2.amazonaws.com/da...</td>\n",
              "      <td>labelpandas-metadata-test-y_9N4kVjlc_AO3C63k2L...</td>\n",
              "      <td>Raw Text String 4</td>\n",
              "      <td>2742</td>\n",
              "      <td>B</td>\n",
              "      <td>11/22/1977 01:04 PM</td>\n",
              "    </tr>\n",
              "    <tr>\n",
              "      <th>5</th>\n",
              "      <td>qm4W6ktKCGR22n21A3o_0A.jpg</td>\n",
              "      <td>https://labelbox.s3-us-west-2.amazonaws.com/da...</td>\n",
              "      <td>labelpandas-metadata-test-qm4W6ktKCGR22n21A3o_...</td>\n",
              "      <td>Raw Text String 5</td>\n",
              "      <td>3409</td>\n",
              "      <td>B</td>\n",
              "      <td>06/28/1960 04:47 AM</td>\n",
              "    </tr>\n",
              "    <tr>\n",
              "      <th>6</th>\n",
              "      <td>pmkRRbZGfIYr-2YN8gwK2Q.jpg</td>\n",
              "      <td>https://labelbox.s3-us-west-2.amazonaws.com/da...</td>\n",
              "      <td>labelpandas-metadata-test-pmkRRbZGfIYr-2YN8gwK...</td>\n",
              "      <td>Raw Text String 6</td>\n",
              "      <td>1467</td>\n",
              "      <td>A</td>\n",
              "      <td>07/31/2007 09:26 AM</td>\n",
              "    </tr>\n",
              "    <tr>\n",
              "      <th>7</th>\n",
              "      <td>2J23mch-V41VdHYVvedGWw.jpg</td>\n",
              "      <td>https://labelbox.s3-us-west-2.amazonaws.com/da...</td>\n",
              "      <td>labelpandas-metadata-test-2J23mch-V41VdHYVvedG...</td>\n",
              "      <td>Raw Text String 7</td>\n",
              "      <td>9185</td>\n",
              "      <td>C</td>\n",
              "      <td>11/12/1965 03:29 AM</td>\n",
              "    </tr>\n",
              "    <tr>\n",
              "      <th>8</th>\n",
              "      <td>9GvpiX9gvFLLpzGN5CCcqA.jpg</td>\n",
              "      <td>https://labelbox.s3-us-west-2.amazonaws.com/da...</td>\n",
              "      <td>labelpandas-metadata-test-9GvpiX9gvFLLpzGN5CCc...</td>\n",
              "      <td>Raw Text String 8</td>\n",
              "      <td>6681</td>\n",
              "      <td>B</td>\n",
              "      <td>02/04/1986 02:41 PM</td>\n",
              "    </tr>\n",
              "    <tr>\n",
              "      <th>9</th>\n",
              "      <td>-nvTzJ-2am0mxQPqnZzZBA.jpg</td>\n",
              "      <td>https://labelbox.s3-us-west-2.amazonaws.com/da...</td>\n",
              "      <td>labelpandas-metadata-test--nvTzJ-2am0mxQPqnZzZ...</td>\n",
              "      <td>Raw Text String 9</td>\n",
              "      <td>8508</td>\n",
              "      <td>C</td>\n",
              "      <td>03/15/1965 12:38 PM</td>\n",
              "    </tr>\n",
              "  </tbody>\n",
              "</table>\n",
              "</div>\n",
              "      <button class=\"colab-df-convert\" onclick=\"convertToInteractive('df-2eef163f-7672-46ab-924c-3a6aef6116ae')\"\n",
              "              title=\"Convert this dataframe to an interactive table.\"\n",
              "              style=\"display:none;\">\n",
              "        \n",
              "  <svg xmlns=\"http://www.w3.org/2000/svg\" height=\"24px\"viewBox=\"0 0 24 24\"\n",
              "       width=\"24px\">\n",
              "    <path d=\"M0 0h24v24H0V0z\" fill=\"none\"/>\n",
              "    <path d=\"M18.56 5.44l.94 2.06.94-2.06 2.06-.94-2.06-.94-.94-2.06-.94 2.06-2.06.94zm-11 1L8.5 8.5l.94-2.06 2.06-.94-2.06-.94L8.5 2.5l-.94 2.06-2.06.94zm10 10l.94 2.06.94-2.06 2.06-.94-2.06-.94-.94-2.06-.94 2.06-2.06.94z\"/><path d=\"M17.41 7.96l-1.37-1.37c-.4-.4-.92-.59-1.43-.59-.52 0-1.04.2-1.43.59L10.3 9.45l-7.72 7.72c-.78.78-.78 2.05 0 2.83L4 21.41c.39.39.9.59 1.41.59.51 0 1.02-.2 1.41-.59l7.78-7.78 2.81-2.81c.8-.78.8-2.07 0-2.86zM5.41 20L4 18.59l7.72-7.72 1.47 1.35L5.41 20z\"/>\n",
              "  </svg>\n",
              "      </button>\n",
              "      \n",
              "  <style>\n",
              "    .colab-df-container {\n",
              "      display:flex;\n",
              "      flex-wrap:wrap;\n",
              "      gap: 12px;\n",
              "    }\n",
              "\n",
              "    .colab-df-convert {\n",
              "      background-color: #E8F0FE;\n",
              "      border: none;\n",
              "      border-radius: 50%;\n",
              "      cursor: pointer;\n",
              "      display: none;\n",
              "      fill: #1967D2;\n",
              "      height: 32px;\n",
              "      padding: 0 0 0 0;\n",
              "      width: 32px;\n",
              "    }\n",
              "\n",
              "    .colab-df-convert:hover {\n",
              "      background-color: #E2EBFA;\n",
              "      box-shadow: 0px 1px 2px rgba(60, 64, 67, 0.3), 0px 1px 3px 1px rgba(60, 64, 67, 0.15);\n",
              "      fill: #174EA6;\n",
              "    }\n",
              "\n",
              "    [theme=dark] .colab-df-convert {\n",
              "      background-color: #3B4455;\n",
              "      fill: #D2E3FC;\n",
              "    }\n",
              "\n",
              "    [theme=dark] .colab-df-convert:hover {\n",
              "      background-color: #434B5C;\n",
              "      box-shadow: 0px 1px 3px 1px rgba(0, 0, 0, 0.15);\n",
              "      filter: drop-shadow(0px 1px 2px rgba(0, 0, 0, 0.3));\n",
              "      fill: #FFFFFF;\n",
              "    }\n",
              "  </style>\n",
              "\n",
              "      <script>\n",
              "        const buttonEl =\n",
              "          document.querySelector('#df-2eef163f-7672-46ab-924c-3a6aef6116ae button.colab-df-convert');\n",
              "        buttonEl.style.display =\n",
              "          google.colab.kernel.accessAllowed ? 'block' : 'none';\n",
              "\n",
              "        async function convertToInteractive(key) {\n",
              "          const element = document.querySelector('#df-2eef163f-7672-46ab-924c-3a6aef6116ae');\n",
              "          const dataTable =\n",
              "            await google.colab.kernel.invokeFunction('convertToInteractive',\n",
              "                                                     [key], {});\n",
              "          if (!dataTable) return;\n",
              "\n",
              "          const docLinkHtml = 'Like what you see? Visit the ' +\n",
              "            '<a target=\"_blank\" href=https://colab.research.google.com/notebooks/data_table.ipynb>data table notebook</a>'\n",
              "            + ' to learn more about interactive tables.';\n",
              "          element.innerHTML = '';\n",
              "          dataTable['output_type'] = 'display_data';\n",
              "          await google.colab.output.renderOutput(dataTable, element);\n",
              "          const docLink = document.createElement('div');\n",
              "          docLink.innerHTML = docLinkHtml;\n",
              "          element.appendChild(docLink);\n",
              "        }\n",
              "      </script>\n",
              "    </div>\n",
              "  </div>\n",
              "  "
            ]
          },
          "metadata": {},
          "execution_count": 4
        }
      ]
    },
    {
      "cell_type": "markdown",
      "source": [
        "Create a Dataset (for demonstration purposes only)"
      ],
      "metadata": {
        "id": "RVryImHmT4hH"
      }
    },
    {
      "cell_type": "code",
      "source": [
        "client = lp.Client(lb_api_key=api_key)"
      ],
      "metadata": {
        "id": "Nd8i9VeETYeu"
      },
      "execution_count": null,
      "outputs": []
    },
    {
      "cell_type": "code",
      "source": [
        "datset_id = client.lb_client.create_dataset(name=\"LabelPandas-metadata\").uid"
      ],
      "metadata": {
        "id": "3NB3ECtoT6jj"
      },
      "execution_count": null,
      "outputs": []
    },
    {
      "cell_type": "markdown",
      "source": [
        "Upload to Labelbox"
      ],
      "metadata": {
        "id": "pXpCR6JNT733"
      }
    },
    {
      "cell_type": "code",
      "source": [
        "results = client.create_data_rows_from_table(\n",
        "    table = df,\n",
        "    dataset_id = datset_id,\n",
        "    skip_duplicates = False, # If True, will skip data rows where a global key is already in use,\n",
        "    verbose = True, # If True, prints information about code execution\n",
        ")"
      ],
      "metadata": {
        "colab": {
          "base_uri": "https://localhost:8080/"
        },
        "id": "84l-0-j3T9kA",
        "outputId": "bb893628-b3d8-45a7-ce58-8cc5f0097b5a"
      },
      "execution_count": null,
      "outputs": [
        {
          "output_type": "stream",
          "name": "stdout",
          "text": [
            "Creating Labelbox metadata field with name LabelPandas-String of type string\n",
            "Creating Labelbox metadata field with name LabelPandas-Number of type number\n",
            "Creating Labelbox metadata field with name LabelPandas-Enum of type enum\n",
            "Creating Labelbox metadata field with name LabelPandas-Datetime of type datetime\n",
            "Creating upload list - 10 rows in Pandas DataFrame\n",
            "Beginning data row upload for dataset ID cle95d5id0sai07sf1o9e5295: uploading 10 data rows\n",
            "Batch #1: 10 data rows\n",
            "Success: Upload batch number 1 successful\n",
            "Upload complete - all data rows uploaded\n"
          ]
        }
      ]
    }
  ]
}
